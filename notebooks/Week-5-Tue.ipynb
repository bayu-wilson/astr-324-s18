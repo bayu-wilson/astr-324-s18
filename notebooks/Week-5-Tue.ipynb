{
 "cells": [
  {
   "cell_type": "markdown",
   "metadata": {
    "slideshow": {
     "slide_type": "slide"
    }
   },
   "source": [
    "### ASTR-324, Spring 2017, Ivezic & Juric, University of Washington\n",
    "https://github.com/uw-astr-324-s17/astr-324-s17/notebooks/Week-5-Tue.ipynb\n",
    "\n",
    "\n",
    "# Week 5, Tuesday: Parameter estimation and model selection with MCMC. I\n",
    "\n"
   ]
  },
  {
   "cell_type": "markdown",
   "metadata": {
    "slideshow": {
     "slide_type": "slide"
    }
   },
   "source": [
    "##### Resources for this notebook include:\n",
    "\n",
    "- [Textbook](http://press.princeton.edu/titles/10159.html) Chapter 5.  \n",
    "- [Gordon Richard's notebooks](https://github.com/gtrichards/PHYS_T480)\n",
    "- [Jake VanderPlas's workshop \"Bayesian Astronomy\"](https://github.com/jakevdp/BayesianAstronomy)\n",
    "- [Jake VanderPlas's blog \"Frequentism and Bayesianism: A Practical Introduction\"](http://jakevdp.github.io/blog/2014/03/11/frequentism-and-bayesianism-a-practical-intro/)\n",
    "\n",
    "\n",
    "##### Highly recommended supplemental background reading:\n",
    "- [Thomas Wiecki: ``MCMC sampling for dummies by Thomas Wiecki\"](http://twiecki.github.io/blog/2015/11/10/mcmc-sampling/)\n",
    "  \n",
    "##### For those who want to dive deep:\n",
    "- [Andrieu et al. ``An Introduction to MCMC for Machine Learning\" (includes a few pages of history)\"](http://www.cs.princeton.edu/courses/archive/spr06/cos598C/papers/AndrieuFreitasDoucetJordan2003.pdf)\n",
    "\n",
    "##### Topics for this week: \n",
    "- Recap of the last week and a discussion of BIC derivation \n",
    "- Introduction to Markov Chain Monte Carlo (MCMC) methods\n",
    "- MCMC applied to multi-dimensional parameter estimation\n",
    "- MCMC applied to Bayesian model selection problems"
   ]
  },
  {
   "cell_type": "code",
   "execution_count": 47,
   "metadata": {
    "collapsed": false
   },
   "outputs": [],
   "source": [
    "import numpy as np\n",
    "from matplotlib import pyplot as plt\n",
    "from scipy import stats\n",
    "from scipy import integrate\n",
    "from scipy.stats import norm\n",
    "from scipy.stats import cauchy\n",
    "from astroML.plotting import hist\n",
    "from astroML.plotting.mcmc import convert_to_stdev\n",
    "from astroML.plotting import setup_text_plots\n",
    "setup_text_plots(fontsize=8, usetex=True)\n",
    "from astroML.plotting.mcmc import convert_to_stdev"
   ]
  },
  {
   "cell_type": "markdown",
   "metadata": {
    "slideshow": {
     "slide_type": "slide"
    }
   },
   "source": [
    "## Bayesian Statistical Inference\n",
    "\n",
    "In Bayesian inference, we evaluate the **posterior probability** by using\n",
    "** data likelihood** and **prior** information: \n",
    " \n",
    "$$p(M,\\theta \\,|\\,D,I) = \\frac{p(D\\,|\\,M,\\theta,I)\\,p(M,\\theta\\,|\\,I)}{p(D\\,|\\,I)},$$\n",
    "\n",
    "The prior can be expanded as \n",
    "$$p(M,\\theta\\,|\\,I) = p(\\theta\\,|\\,M,I)\\,p(M\\,|\\,I).$$\n",
    " \n",
    "It is often the case that $p(D\\,|\\,I)$ is not evaluated explictly since the posterior probability \n",
    "can be (re)normalized. \n",
    "\n",
    "**The Bayesian Statistical Inference process** is then\n",
    "* formulate the likelihood, $p(D\\,|\\,M,\\theta,I)$\n",
    "* chose a prior $p(M,\\theta\\,|\\,I)$, which incorporates *other information beyond the data in $D$*\n",
    "* determine the posterior pdf, $p(M,\\theta \\,|\\,D,I)$\n",
    "* search for the model parameters that maximize $p(M,\\theta \\,|\\,D,I)$ \n",
    "* quantify the uncertainty of the model parameter estimates (credible region)\n",
    " \n",
    " \n",
    "### Bayesian Model Comparison\n",
    "\n",
    "To determine which model is better we compute the ratio of the posterior probabilities or the **odds ratio** for two models as\n",
    "$$O_{21} \\equiv \\frac{p(M_2|D,I)}{p(M_1|D,I)}.$$\n",
    "\n",
    "The posterior probability that the model $M$ is correct given data $D$ is\n",
    "$$p(M|D,I) = \\frac{p(D|M,I)p(M|I)}{p(D|I)},$$\n",
    "and the odds ratio can ignore $p(D|I)$ since it will be the same for both models. \n",
    "\n",
    "We get \n",
    "$$O_{21} = \\frac{p(D\\,|\\,M_2,I)\\,p(M_2\\,|\\,I)}{p(D\\,|\\,M_1,I)\\,p(M_1\\,|\\,I)} \\equiv B_{21} \\, \\frac{p(M_2\\,|\\,I)}{p(M_1\\,|\\,I)},$$\n",
    "where $B_{21}$ is called the Bayes factor. \n",
    "\n",
    "The Bayes factor compares how well the models fit the data: it is a ratio of data likelihoods averaged over \n",
    "all allowed values of the model parameters and computed as\n",
    "$$B_{21} = \\frac{\\int p(D\\,|\\,M_2, \\theta, I) \\, p(\\theta\\,|\\,M_2, I) \\, d\\theta}{\\int p(D\\,|\\,M_1, \\theta, I) \\, p(\\theta\\,|\\,M_1, I) \\, d\\theta}. $$\n",
    " \n",
    "In other words, the Bayes factor is the ratio of **the global likelihoods for models $M_1$ and $M_2$**, \n",
    "where the global likelihood, or evidence, is a weighted average of the likelihood function, with the \n",
    "prior for model parameters acting as the weighting function.\n",
    "\n",
    "N.B. To get the best-fit model parameters, we take a derivative of the product of the likelihood function\n",
    "and priors (and equate it to 0), while to get the global likelihood we integrate it. \n",
    " \n",
    "**How do we interpret the values of the odds ratio, $O_{21}$, in practice?**\n",
    "\n",
    "Jeffreys proposed a five-step scale for \n",
    "interpreting the odds ratio, where $O_{21} > 10$ represents “strong” evidence in favor of $M_2$ ($M_2$ \n",
    "is ten times more probable than $M_1$; analogously $O_{21} < 0.1$ is “strong” evidence in favor of $M_1$), \n",
    "and $O_{21} > 100$ is “decisive” evidence ($M_2$ is one hundred times more probable than $M_1$). \n",
    "When $O_{21} < 3$, the evidence is “not worth more than a bare mention.”\n",
    "\n",
    "  \n",
    "### Approximate Bayesian Model Comparison\n",
    "\n",
    "The data likelihood, required to compute the models odds ratio, and the commonly \n",
    "used $\\chi^2$ goodness-of-fit parameter are related. By introducting a few \n",
    "assumptions and approximations, the computations of the odds ratio can be\n",
    "greatly simplified and expressed as the sum of $\\chi^2$ and a term that penalizes\n",
    "models for their parameters (when models achieve similar values of $\\chi^2$,\n",
    "the one with the smallest number of free parameters wins). \n",
    " \n",
    "We consider a one dimensional case with unknown parameter $\\mu$ and\n",
    "start with an approximate computation of the evidence $E(M)$,\n",
    "$$ E(M) = \\int p(\\{x_i\\}, \\,|\\,M, \\mu, I) \\, p(\\mu \\,|\\,M, I) \\, d \\mu .$$\n",
    "\n",
    "Our first assumption is that the prior is uniform \n",
    "$$  p(\\mu\\,|\\, M, I) = \\frac{1}{\\Delta} \\,\\,\\,\\,\\,\\, {\\rm for} \\,\\,\\, -\\frac{\\Delta}{2} < \\mu < \\frac{\\Delta}{2}$$\n",
    "and 0 otherwise. \n",
    "\n",
    "The second assumption is that the data likelihood can\n",
    "be approximated as a Gaussian around its maximum at $\\mu=\\mu_0$\n",
    "$$ p(\\{x_i\\} \\,|\\,M, \\mu, I) \\approx L(\\mu_0) \\, \\exp \\left( - \\frac{(\\mu - \\mu_0)^2}{2 \\sigma_\\mu^2} \\right). $$\n",
    "\n",
    "These assumptions lead to \n",
    "$$ E(M) \\approx \\frac{L(\\mu_0)}{\\Delta} \\, \\int_{-\\Delta/2}^{\\Delta/2} \\exp \\left( - \\frac{(\\mu - \\mu_0)^2}{2 \\sigma_\\mu^2}\\right) d\\mu, $$\n",
    "and with an additional assumption $\\sigma_\\mu \\ll \\Delta$ (data overcomes\n",
    "the prior), we get\n",
    "$$ E(M) \\approx \\frac{\\sigma_\\mu}{\\Delta} \\, L(\\mu_0) \\, \\sqrt{2\\pi}. $$\n",
    "\n",
    "Note that $E(M) \\ll L(\\mu_0)$, because $\\sigma_\\mu \\ll \\Delta$. In multi-dimensional\n",
    "case, each model parameter constrained by the model carries a similar \n",
    "multiplicative penalty, proportional to $\\sigma_\\mu/\\Delta$, when computing the \n",
    "Bayes factor. If a parameter, or a degenerate parameter combination, is unconstrained \n",
    "by the data (i.e., $\\sigma_\\mu \\approx \\Delta$), there is no penalty.  \n",
    "The odds ratio can justify an additional model parameter **only if this penalty is offset** by either \n",
    "an increase of the maximum value of the data likelihood, $L(\\mu_0$), or by the ratio \n",
    "of prior model probabilities, $p(M_2|I)/p(M_1|I)$. If both of these quantities are \n",
    "similar for the two models, the one with fewer parameters typically wins.\n",
    "\n",
    "If a model is well constrained by the data, for each of $k$ constrained\n",
    "parameters, $\\sigma_\\mu \\propto 1/\\sqrt{N}$, where $N$ is the number of data \n",
    "points. Therefore,\n",
    "$$ E(M) \\propto L(\\mu_0) \\, \\left(\\sqrt{N}\\right)^k. $$\n",
    " \n",
    "In order to establish connection with $\\chi^2$ via $L(\\mu_0) =\n",
    "\\exp\\left(-\\frac{\\chi^2}{2}\\right)$, we define for a model the **Bayesian information \n",
    "criterion (BIC)** as $BIC \\equiv -2\\ln{E(M)}$, and finally obtain  \n",
    "$${\\rm BIC} = -2 \\ln [L_0(M)] + k \\ln N.$$ \n",
    "The 1st term on the RHS is equal to model's $\\chi^2$ (under the assumption \n",
    "of normality; note that this is *not* $\\chi^2$ per degree of freedom!) and \n",
    "the 2nd term on the RHS penalizes complex models relative to simple ones.\n",
    "\n",
    "In summary, when multiple models are considered, their BIC values, computed as\n",
    "$${\\rm BIC} = \\chi^2 + k \\ln N,$$ \n",
    "where $N$ is the number of data points and $k$ is the number of constrained\n",
    "model parameters, are compared and the model with the smallest BIC value wins.   \n",
    " \n",
    "**N.B.** BIC is an approximation and might not be valid if the underlying \n",
    "assumptions (data ovecoming prior and Gaussian likelihood) are not met! In general, it is better to compute the odds ratio when computationally feasible.\n",
    "\n",
    "   \n",
    " "
   ]
  },
  {
   "cell_type": "markdown",
   "metadata": {
    "slideshow": {
     "slide_type": "slide"
    }
   },
   "source": [
    "## Coin Flip as an Example of Bayesian Model Comparison\n",
    "\n",
    "Let's look at an example we already discussed: the coin flip. Let's assume we have\n",
    "N draws and k are success (say, heads). \n",
    "\n",
    "We will compare two hypotheses; \n",
    "\n",
    "**M1**: the coin has a known heads probability $b_\\ast$ (say, a fair coin with $b_\\ast=0.5$), and \n",
    "\n",
    "**M2**: the heads probability $b$ is unknown, with a uniform prior in the range 0–1. \n",
    "Note that the prior for model M1 is a delta function, $\\delta(b-b_\\ast)$. \n",
    "\n",
    "Given a model parametrized by the probability of success $b$, the likelihood that the data set \n",
    "contains k outcomes equal to 1 is given by \n",
    "  $$    p(k\\,|\\,b, N) = \\frac{N!}{k! \\, (N-k)!} \\, b^k \\, (1-b)^{N-k} $$\n",
    "\n",
    "For model M2 the prior for $b$ is flat in the range 0-1 and the product of the \n",
    "data likelihood and prior is same as above. However, for model M1 the prior is a \n",
    "delta function $\\delta(b-b_\\ast)$ and we get for the product of the \n",
    "data likelihood and prior  \n",
    "$$    p(k\\,|\\,b_\\ast, N, M1)\\,p(b|M1, I) = \\frac{N!}{k! \\, (N-k)!} \\, b_\\ast^k \\, (1-b_\\ast)^{N-k}. $$\n",
    "\n",
    "Consequently, the odds ratio is given by \n",
    "$$ O_{21} = \\int_0^1 \\left(\\frac{b}{b_\\ast}\\right)^k \\left(\\frac{1-b}{1-b_\\ast}\\right)^{N-k} db, $$\n",
    "as illustrated in the following figure. \n",
    "\n",
    " \n",
    "![OddsRatio](figures/odds.tiff)\n",
    "\n",
    "This figure (from the textbook) illustrates the behavior of $O_{21}$ as a function of $k$\n",
    "for two different values of N and for two different values of $b_\\ast$: $b_\\ast = 0.5$ \n",
    "(M1: the coin is fair) and $b_\\ast = 0.1$. As the figure shows, the ability to distinguish \n",
    "the two hypothesis **improves** with the sample size. For example, when $b_\\ast= 0.5$ and \n",
    "k/N = 0.1, the odds ratio in favor of M2 increases from about 9 for N = 10 to about \n",
    "263 for N = 20. When k = $b_\\ast N$, the odds ratio is 0.37 for N = 10 and 0.27 for N = 20. \n",
    "In other words, **the simpler model is favored by the data**, and the support strengthens \n",
    "with the sample size. \n",
    "\n",
    "It is easy to show by integration of the above equation for $O_{21}$ that \n",
    "$O_{21}= \\sqrt{\\pi/(2N)}$ when k = $b_\\ast N$ and $b_\\ast = 0.5$. For example, to build strong \n",
    "evidence that a coin is fair, $O_{21} < 0.1$, it takes as many as N $>$ 157 tosses. With \n",
    "N = 10,000, the heads probability of a fair coin is measured with a precision of 1% and\n",
    "the corresponding odds ratio is $O_{21} \\approx 1/80$, approaching Jeffreys’ decisive \n",
    "evidence level. \n",
    " \n",
    "In **frequentist approach**, we would ask whether we can reject the null hypothesis that \n",
    "our coin is fair. We would ask whether a given $k$ is a very unusual outcome (at some \n",
    "significance level $\\alpha$, say $\\alpha=0.05$, which corresponds to about \"2$\\sigma$\"\n",
    "deviation) for a fair coin with $b_\\ast = 0.5$ and with\n",
    "a given N. In the **Bayesian approach**, we offer an alternative hypothesis that the coin \n",
    "has an unknown heads probability. While this probability can be estimated from provided \n",
    "data ($b_0$), **we consider all the possible values** of $b_0$ when comparing the two proposed \n",
    "hypotheses. \n",
    "\n",
    "As a numerical example, let's consider N=20 and k=16. Using the results discussed earlier, \n",
    "we find that the scatter around the expected value $k_0 = b_\\ast N$ = 10 is $\\sigma_k = 2.24$. \n",
    "Therefore, k = 16 is about 2.7$\\sigma_k$ away from $k_0$, and at the adopted significance \n",
    "level $\\alpha=0.05$ we **reject the null hypothesis** (this rejection means that it is unlikely that k = 16 would have arisen by chance). Of course, k = 16 does **not** imply \n",
    "that it is impossible that the coin is fair (infrequent events happen, too!).\n",
    "\n",
    "As shown in the above figure, the chosen parameters (N=20 and k=16) correspond to the \n",
    "Bayesian **odds ratio** of about 10 in favor of hypothesis M2.  \n",
    "\n",
    "\n",
    "### Approximate Bayesian Model Comparison\n",
    "\n",
    "Let's now use BIC to address the same problem and illustrate how model M2 gets \n",
    "penalized for its free parameter. Essentially, we want an approximation for the\n",
    "integral expression for $O_{21}$\n",
    "$$ O_{21} = \\int_0^1 \\left(\\frac{b}{b_\\ast}\\right)^k \\left(\\frac{1-b}{1-b_\\ast}\\right)^{N-k} db, $$\n",
    " \n",
    "We can approximate \n",
    "$$ E(M2) \\approx \\sqrt{2\\pi} \\, L(b_0) \\, \\sigma_b, $$\n",
    "where $b_0 = k/N$ and for largish N we have $\\sigma_b \\approx \\sqrt{b_0(1-b_0)/N}$. \n",
    "\n",
    "For M1, we have exact result because the prior is $\\delta$ function\n",
    "$$ E(M1) = \\frac{N!}{k! \\,(N=k)!} b_\\ast^k (1-b_\\ast)^{N-k}.$$\n",
    "\n",
    "And the odds ratio becomes\n",
    "$$ O_{21} \\approx \\sqrt{2\\pi} \\, \\sigma_b \\,\n",
    "\\left(\\frac{b_0}{b_\\ast}\\right)^k \\left(\\frac{1-b_0}{1-b_\\ast}\\right)^{N-k} =\n",
    "\\sqrt{2\\pi}\\, \\sqrt{\\frac{b_0(1-b_0)}{N}} \\, \\left(\\frac{b_0}{b_\\ast}\\right)^k \\left(\\frac{1-b_0}{1-b_\\ast}\\right)^{N-k} .$$\n",
    "\n",
    "Now we can explicitly see that the evidence in favor of model M2 decreases (the model is “penalized”) proportionally to the posterior pdf width of its free parameter, $\\sigma_b$. \n",
    "\n",
    "If indeed $b_0 \\approx b_\\ast$, model M1 wins because it explained the data without\n",
    "any free parameter. On the other hand, the evidence in favor of M2 increases as the \n",
    "data-based value $b_0$ becomes very different from the prior $b_\\ast$ claimed by model M1.\n",
    "** Model M1 becomes disfavored because it is unable to explain the observed data.**\n",
    "\n",
    "\n",
    "\n",
    "\n",
    " \n",
    " "
   ]
  },
  {
   "cell_type": "markdown",
   "metadata": {
    "slideshow": {
     "slide_type": "slide"
    }
   },
   "source": [
    "##  Markov Chain Monte Carlo\n",
    "\n",
    "### Motivation\n",
    "\n",
    "Consider the problem of estimating location and scale parameters\n",
    "for a sample drawn from Gaussian distribution that we intriduced earlier.\n",
    "We had a two-dimensional posterior pdf for $\\mu$ and $\\sigma$:\n",
    "\n",
    "![BayesSlide1](figures/Lgauss.tiff)\n",
    "\n",
    "We obtained posterior pdf for $\\mu$ and $\\sigma$ by intergrating\n",
    "the two-dimensional posterior pdf for $\\mu$ and $\\sigma$ over \n",
    "$\\sigma$ and $\\mu$, respectively: \n",
    "\n",
    "![BayesSlide1](figures/LgaussM.tiff)\n",
    "\n",
    "\n",
    "It was easy to numerically integrate the posterior pdf, as well \n",
    "as to find its maximum, using brute force grid search because\n",
    "it was only a two-dimesional problem. With 100 grid points per\n",
    "coordinate it was only $10^4$ values. However, even in a case\n",
    "of rather simple 5-dimensional problem (as we'll discuss later \n",
    "today), we'd have $10^{10}$ values! And often we work with models \n",
    "of much higer dimensionality (it can be thousands). \n",
    "\n",
    "** We need a better method than the brute force grid search! **\n",
    "\n",
    "For example, if we could generate a sample of $\\{\\mu_i,\\sigma_i\\}$ \n",
    "drawn from the posterior pdf for $\\mu$ and $\\sigma$, we could simply\n",
    "get posterior pdf for $\\mu$ and $\\sigma$ by plotting histograms of \n",
    "$\\mu$ and $\\sigma$ (similar to the above figure). As simple as that! \n",
    "\n",
    "But how can we get such samples? ** By using computers!** And MCMC :) \n",
    "\n",
    "First we'll say a few words about Monte Carlo in general, and \n",
    "then we'll talk about a special kind of Monte Carlo called \n",
    "Markov Chain Monte Carlo. \n",
    "\n",
    "\n",
    "What we want to be able to do is to evaluate multi-dimensional \n",
    "($\\theta$ is a k-dimensional vector) integrals of the form \n",
    "$$ I = \\int g(\\theta) \\, p(\\theta) \\, d\\theta,$$\n",
    "where for simplicity posterior pdf is described as\n",
    "$$ p(\\theta) \\equiv p(M,\\theta \\,|\\,D,I) \\propto p(D\\,|\\,M,\\theta,I)\\,p(M,\\theta\\,|\\,I). $$\n",
    "\n",
    "For example:\n",
    "\n",
    "1) **Marginalization**: if the first $P$ elements of $\\theta$ are the sought\n",
    "after model parameters, and the next $k-P$ parameters are nuisance \n",
    "parameters, when marginalizing $p(\\theta)$ over nuisance parameters\n",
    "we have $g(\\theta) = 1$ and we integrate over space spanned by $k-P$ \n",
    "nuisance parameters. \n",
    "\n",
    "2) **Point estimates** for the posterior: if we want the mean of a model\n",
    "parameter $\\theta_m$, then $g(\\theta) = \\theta_m$ and we integrate over\n",
    "all model parameters. \n",
    "\n",
    "3) **Model comparison**: here $g(\\theta) = 1$ and we integrate over all model\n",
    "parameters. \n",
    "\n",
    "\n"
   ]
  },
  {
   "cell_type": "markdown",
   "metadata": {
    "slideshow": {
     "slide_type": "slide"
    }
   },
   "source": [
    "## Monte Carlo Methods\n",
    " \n",
    "\n",
    "![monaco](figures/monacoMap.tiff)\n",
    "![monaco](figures/montecarlophoto.tiff)\n",
    "\n",
    "\n",
    "Monte Carlo is a city in Europe, in the Principality of Monaco (of Grace Kelly fame)...\n",
    "and they are known for gambling. A family of random sampling methods was named\n",
    "after Monte Carlo in order to keep the method secret (because it was invented and\n",
    "used for nuclear weapons design in the U.S. around and after World War II). With \n",
    "the advent of computers, Monte Carlo methods, such as Monte Carlo integration and \n",
    "Monte Carlo statistical tests, became hugely important. \n",
    "\n"
   ]
  },
  {
   "cell_type": "markdown",
   "metadata": {
    "slideshow": {
     "slide_type": "slide"
    }
   },
   "source": [
    "## Monte Carlo Methods \n",
    "\n",
    "What you need is a computer that can generate (pseudo)random numbers and then you\n",
    "solve a lot of hard problems. Let' start with an easy problem of one-dimensional\n",
    "numerical integration.\n",
    "\n",
    "Assume that you can generate a distribution of M random numbers $\\theta_j$ uniformly sampled \n",
    "within the integration volume V. Then our interval can be evaluated as \n",
    "$$ I = \\int g(\\theta) \\, p(\\theta) \\, d\\theta = \\frac{V}{M} \\sum_{j=1}^M g(\\theta_j) \\, p(\\theta_j).$$\n",
    "    \n",
    "Note that in 1-D we can write a similar expression \n",
    "$$ I = \\int f(\\theta) \\, d\\theta = \\Delta \\, \\sum_{j=1}^M f(\\theta_j).$$\n",
    "\n",
    "where $ f(\\theta) = g(\\theta) \\, p(\\theta) $, and it is assumed that the values\n",
    "$\\theta_j$ are sampled on a regular grid with the step $\\Delta = V/M$ ($V$ here is the\n",
    "length of the sampling domain). This expression is the simplest example of\n",
    "numerical integration (\"rectangle rule\", which amounts to approximating $f(\\theta)$\n",
    "by a piecewise constant function).\n",
    "\n",
    "The reason why we expressed $f(\\theta)$\n",
    "as a product of $g(\\theta)$ and $p(\\theta)$ is that, as we will see shortly,\n",
    "we can generate a sample drawn from $p(\\theta)$ (instead of sampling on a \n",
    "regular grid), and this greatly improves the performance of numerical integration.\n",
    "\n",
    "Let's try to evaluate $\\int_0^1 x(1-x) dx$ using this method!     "
   ]
  },
  {
   "cell_type": "code",
   "execution_count": 26,
   "metadata": {
    "collapsed": false
   },
   "outputs": [
    {
     "name": "stdout",
     "output_type": "stream",
     "text": [
      "M:  10 0.137320940697 -0.176074355819\n",
      "M:  100 0.164671616041 -0.0119703037514\n",
      "M:  1000 0.164525286458 -0.0128482812516\n",
      "M:  10000 0.166566434631 -0.000601392214787\n",
      "rectangular rule, M:  10000 0.166649998333 -0.000100010001\n"
     ]
    }
   ],
   "source": [
    "def myFunction(x):\n",
    "    return x*(1-x)\n",
    "\n",
    "I0 = 1.0/6   # true value \n",
    "for M in [10, 100, 1000, 10000]:\n",
    "    theta = stats.uniform(0, 1).rvs(M)\n",
    "    I = np.sum(myFunction(theta))/M\n",
    "    err = (I-I0)/I0\n",
    "    print 'M: ', M, I, err\n",
    "\n",
    "# uniform grid\n",
    "theta = np.linspace(0,1,M)\n",
    "I = np.sum(myFunction(theta))/M\n",
    "print 'rectangular rule, M: ', M, I, (I-I0)/I0"
   ]
  },
  {
   "cell_type": "code",
   "execution_count": 27,
   "metadata": {
    "collapsed": false
   },
   "outputs": [
    {
     "name": "stdout",
     "output_type": "stream",
     "text": [
      "fractional integration error for pi:\n",
      "M:  10 0.145915590262\n",
      "M:  100 0.00585924034078\n",
      "M:  1000 0.0043266760171\n",
      "M:  10000 0.00420402893262\n"
     ]
    },
    {
     "data": {
      "image/png": "[encoded data removed]",
      "text/plain": [
       "<matplotlib.figure.Figure at 0x117338750>"
      ]
     },
     "metadata": {},
     "output_type": "display_data"
    }
   ],
   "source": [
    "print \"fractional integration error for pi:\"\n",
    "for M in [10, 100, 1000, 10000]:\n",
    "    x = stats.uniform(0, 1).rvs(M)\n",
    "    y = stats.uniform(0, 1).rvs(M)\n",
    "    r2 = x*x+y*y\n",
    "    print 'M: ', M, np.abs((np.pi-4.0*np.size(x[r2<1])/M)/np.pi)\n",
    "\n",
    "fig, ax = plt.subplots(subplot_kw=dict(aspect='equal'))\n",
    "plt.plot(x, y, '.k', markersize=3, c='blue')\n",
    "plt.plot(x[r2<1], y[r2<1], '.k', markersize=3, c='red')\n",
    "ax.axis([0, 1, 0, 1], aspect='equal');\n",
    "plt.xlabel('x')\n",
    "plt.ylabel('y')\n",
    "plt.show() "
   ]
  },
  {
   "cell_type": "markdown",
   "metadata": {
    "slideshow": {
     "slide_type": "slide"
    }
   },
   "source": [
    "##  Markov Chains\n",
    "\n",
    "A number of methods exist that are much more efficient than generic Monte Carlo integration. \n",
    "The most popular group of techniques is known as Markov chain Monte Carlo (MCMC) methods. \n",
    "\n",
    "MCMC returns a sample of points, or **chain**, from the k-dimensional parameter space, with \n",
    "a distribution that is **asymptotically proportional** to $p(\\theta)$. The constant of \n",
    "proportionality is not important in the first class of problems listed above. In model \n",
    "comparison problems, the proportionality constant must be known and we will return to this \n",
    "point later.\n",
    "\n",
    "Given such a chain of length M, the integral can be estimated as\n",
    "$$ I = \\int g(\\theta) \\, p(\\theta) \\, d\\theta = \\frac{1}{M} \\sum_{j=1}^M g(\\theta_j).$$\n",
    "\n",
    "Again, here the values of $\\theta$ are **not** sampled **uniformly** from the volume;\n",
    "they are sampled **proportionally** to $p(\\theta)$! Note that there is no $p(\\theta_j)$ \n",
    "term next to $g(\\theta_j)$ because the proper weighting in the sum is taken care of \n",
    "by the sample itself! \n",
    "\n",
    "** How do we get such a chain? **\n",
    "\n",
    "### What is a Markov Chain?\n",
    "\n",
    "A Markov Chain is defined as a sequence of random variables where a parameter depends \n",
    "*only* on the preceding value.  Such processes are \"memoryless\".  \n",
    " \n",
    "Mathematically, we have\n",
    "$$p(\\theta_{i+1}|\\{\\theta_i\\}) = p(\\theta_{i+1}|\\,\\theta_i).$$\n",
    "\n",
    "\n",
    "In our context, $\\theta$ can be thought of as a vector in multidimensional space, and a\n",
    "realization of the chain represents a path through this space. To reach an equilibrium, or\n",
    "stationary, distribution of positions, it is necessary that the transition probability is symmetric:\n",
    "$$    p(\\theta_{i+1}|\\,\\theta_i) = p(\\theta_i |\\, \\theta_{i+1}). $$\n",
    "This condition is called the detailed balance or reversibility condition. It\n",
    "shows that the\n",
    "probability of a jump between two points does not depend on the direction of the jump.\n",
    "\n",
    "There are various algorithms for producing Markov chains that reach some prescribed\n",
    "equilibrium distribution, $p(\\theta)$. The use of resulting chains to perform Monte Carlo\n",
    "integration is called *Markov chain Monte Carlo* (MCMC).\n",
    "\n",
    "\n",
    " \n"
   ]
  },
  {
   "cell_type": "markdown",
   "metadata": {
    "slideshow": {
     "slide_type": "slide"
    }
   },
   "source": [
    "### What is a Markov Chain?\n",
    "\n",
    "Let's see an example from\n",
    "[Andrieu et al. ``An Introduction to MCMC for Machine Learning\" (includes a few pages of history)\"](http://www.cs.princeton.edu/courses/archive/spr06/cos598C/papers/AndrieuFreitasDoucetJordan2003.pdf)\n",
    "\n",
    "<img src=\"figures/Andrieu1.tiff\" alt=\"Drawing\" style=\"width: 600px;\"/>\n",
    "<img src=\"figures/Andrieu2.tiff\" alt=\"Drawing\" style=\"width: 600px;\"/>\n",
    "<img src=\"figures/Andrieu3.tiff\" alt=\"Drawing\" style=\"width: 600px;\"/>"
   ]
  },
  {
   "cell_type": "code",
   "execution_count": 28,
   "metadata": {
    "collapsed": false
   },
   "outputs": [
    {
     "name": "stdout",
     "output_type": "stream",
     "text": [
      "Niter, x = 1 [ 0.18  0.64  0.18]\n",
      "Niter, x = 1 [ 0.108  0.316  0.576]\n",
      "Niter, x = 97 [ 0.22131148  0.40983607  0.36885246]\n"
     ]
    }
   ],
   "source": [
    "def doTransit(T, xold, Niter):\n",
    "\n",
    "    for i in range(0,Niter):\n",
    "        xnew = np.dot(xold, T)\n",
    "        xold = xnew\n",
    "  \n",
    "    print 'Niter, x =', Niter, xold\n",
    "    return xold\n",
    "\n",
    "T = [[0, 1, 0], [0, 0.1, 0.9], [0.6, 0.4, 0]]\n",
    "\n",
    "x1 = [0.5, 0.2, 0.3]\n",
    "x2 = doTransit(T, x1, 1)\n",
    "x3 = doTransit(T, x2, 1)\n",
    "x100 = doTransit(T, x2, 97)\n"
   ]
  },
  {
   "cell_type": "code",
   "execution_count": 29,
   "metadata": {
    "collapsed": false
   },
   "outputs": [
    {
     "name": "stdout",
     "output_type": "stream",
     "text": [
      "Niter, x = 1 [ 0.    0.91  0.09]\n",
      "Niter, x = 1 [ 0.054  0.127  0.819]\n",
      "Niter, x = 1 [ 0.4914  0.3943  0.1143]\n",
      "Niter, x = 97 [ 0.22131148  0.40983607  0.36885246]\n"
     ]
    }
   ],
   "source": [
    "x1 = [0.9, 0.1, 0.0]\n",
    "x2 = doTransit(T, x1, 1)\n",
    "x3 = doTransit(T, x2, 1)\n",
    "x4 = doTransit(T, x3, 1)\n",
    "x100 = doTransit(T, x4, 97)\n"
   ]
  },
  {
   "cell_type": "code",
   "execution_count": 30,
   "metadata": {
    "collapsed": false
   },
   "outputs": [
    {
     "name": "stdout",
     "output_type": "stream",
     "text": [
      "Niter, x = 1 [ 0.  1.  0.]\n",
      "Niter, x = 1 [ 0.   0.1  0.9]\n",
      "Niter, x = 1 [ 0.54  0.37  0.09]\n",
      "Niter, x = 97 [ 0.22131148  0.40983607  0.36885246]\n"
     ]
    }
   ],
   "source": [
    "x1 = [1.0, 0.0, 0.0]\n",
    "x2 = doTransit(T, x1, 1)\n",
    "x3 = doTransit(T, x2, 1)\n",
    "x4 = doTransit(T, x3, 1)\n",
    "x100 = doTransit(T, x4, 97)\n"
   ]
  },
  {
   "cell_type": "code",
   "execution_count": 31,
   "metadata": {
    "collapsed": false
   },
   "outputs": [
    {
     "name": "stdout",
     "output_type": "stream",
     "text": [
      "Niter, x = 1 [ 0.6  0.4  0. ]\n",
      "Niter, x = 1 [ 0.    0.64  0.36]\n",
      "Niter, x = 1 [ 0.216  0.208  0.576]\n",
      "Niter, x = 97 [ 0.22131148  0.40983607  0.36885246]\n"
     ]
    }
   ],
   "source": [
    "x1 = [0.0, 0.0, 1.0]\n",
    "x2 = doTransit(T, x1, 1)\n",
    "x3 = doTransit(T, x2, 1)\n",
    "x4 = doTransit(T, x3, 1)\n",
    "x100 = doTransit(T, x4, 97)\n"
   ]
  },
  {
   "cell_type": "markdown",
   "metadata": {
    "slideshow": {
     "slide_type": "slide"
    }
   },
   "source": [
    "##  Markov Chain Monte Carlo\n",
    "\n",
    "The modern version of the Markov Chain Monte Carlo method was invented in the late 1940s by Stanislaw Ulam, while he was working on nuclear weapons projects at the Los Alamos National Laboratory. The name Monte Carlo\n",
    "was given to the method by Nick Metropolis, who then invented the Metropolis sampler, which evolved into\n",
    "one of the most famous MCMC algorithms, the Metropolis-Hastings algorithm. \n",
    "\n",
    "Algorithms for generating Markov chains are numerous and greatly vary in complexity\n",
    "and applicability. Many of the most important ideas were generated in physics, especially\n",
    "in the context of statistical mechanics, thermodynamics, and quantum field theory.\n",
    "\n",
    "In order for a Markov chain to reach a stationary distribution proportional to $p(\\theta)$,\n",
    "the probability of arriving at a point $\\theta_{i+1}$ must be proportional to $p(\\theta_{i+1})$,\n",
    "$$ p(\\theta_{i+1}) = \\int  T(\\theta_{i+1}|\\theta_i)  \\,   p(\\theta_i) \\,    d \\theta_i, $$\n",
    "where the transition probability $T(\\theta_{i+1}|\\theta_i)$ is called the jump kernel or\n",
    "transition kernel (and it is assumed that we know how to compute $p(\\theta_i)$).\n",
    "\n",
    "This requirement will be satisfied when the transition probability satisfies the detailed\n",
    "balance condition\n",
    "$$ T(\\theta_{i+1}|\\theta_i)  \\,  p(\\theta_i) = T(\\theta_i|\\theta_{i+1})  \\,  p(\\theta_{i+1}). $$\n",
    "\n",
    "*Various MCMC algorithms differ in their choice of transition kernel*"
   ]
  },
  {
   "cell_type": "markdown",
   "metadata": {
    "slideshow": {
     "slide_type": "slide"
    }
   },
   "source": [
    "##  Markov Chain Monte Carlo\n",
    "\n",
    "*Various MCMC algorithms differ in their choice of transition kernel*\n",
    "\n",
    "**The Metropolis-Hastings algorithm** adopts the kernel\n",
    "$$  T(\\theta_{i+1}\\,|\\,\\theta_i) =  p_{\\rm acc}(\\theta_i,\\theta_{i+1}) \\, K(\\theta_{i+1}\\,|\\,\\theta_i), $$\n",
    "where the proposed density distribution $K(\\theta_{i+1}\\,|\\,\\theta_i,)$ is an *arbitrary* function.\n",
    "The proposed point $\\theta_{i+1}$ is randomly accepted with the acceptance probability\n",
    "$$   p_{\\rm acc}(\\theta_i,\\theta_{i+1}) = { K(\\theta_i\\,|\\,\\theta_{i+1}) \\,  p(\\theta_{i+1}) \\over\n",
    "                       K(\\theta_{i+1}\\,|\\,\\theta_i) \\,  p(\\theta_i) } $$\n",
    "(when exceeding 1, the proposed point $\\theta_{i+1}$ is always accepted). \n",
    "\n",
    "** When $\\theta_{i+1}$ is rejected, $\\theta_i$ is added to the chain instead. **\n",
    "\n",
    "A Gaussian distribution centered on $\\theta_i$ is often used for $K(\\theta_{i+1}|\\theta_i)$.\n",
    "\n",
    "The original Metropolis algorithm is based on a symmetric proposal distribution,\n",
    "$K(\\theta_{i+1}|\\theta_i) =  K(\\theta_i|\\theta_{i+1})$, which then cancels out from\n",
    "the acceptance probability. **In this case, $\\theta_{i+1}$ is always accepted if\n",
    "$p(\\theta_{i+1}) > p(\\theta_i)$, and if not, then it is accepted with a probability\n",
    "$p(\\theta_{i+1})/p(\\theta_i)$.**\n",
    "\n",
    "\n",
    "This algorithm guarantees that the chain will reach an equilibrium, or stationary, distribution, and it will approximate a sample drawn from $p(\\theta)$! \n",
    "\n",
    " "
   ]
  },
  {
   "cell_type": "markdown",
   "metadata": {
    "slideshow": {
     "slide_type": "slide"
    }
   },
   "source": [
    "##  Markov Chain Monte Carlo\n",
    "\n",
    "**In summary, the Metropolis-Hastings algorithm consists of these steps:**\n",
    "\n",
    "1) given $\\theta_i$ and $K(\\theta_{i+1}|\\theta_i)$, draw a proposed value for $\\theta_{i+1}.$ \n",
    "\n",
    "2) compute acceptance probability $p_{\\rm acc}(\\theta_i,\\theta_{i+1})$.\n",
    "\n",
    "3) draw a random number between 0 and 1 from a uniform distribution; if it smaller than\n",
    "   $p_{\\rm acc}(\\theta_i,\\theta_{i+1})$, then accept $\\theta_{i+1}$.\n",
    "   \n",
    "4) if $\\theta_{i+1}$ is accepted added it to the chain, if not, add $\\theta_{i}$ to the chain.\n",
    "\n",
    "5) use the chain (of $\\theta$ values) for inference; e.g. a histogram of $\\theta$ is\n",
    "  an estimator of the posterior pdf for $\\theta$, $p(\\theta)$, and the expectation value for \n",
    "  $\\theta$ can be computed from \n",
    "  $$ I = \\int g(\\theta) \\, p(\\theta) \\, d\\theta = \\frac{1}{M} \\sum_{j=1}^M \\theta_j.$$\n",
    "\n",
    "where M is the number of elements in the chain (e.g. \n",
    "the expectation value for $\\theta$ is simply the mean value of chain elements). \n",
    "  \n",
    "Before looking at the  Metropolis-Hastings algorithm in more detail, let's\n",
    "look at the simplest example of MCMC I could think of:\n",
    "- there are only 10 possible states (think of digits 0-9)\n",
    "- we are given the target probabilities for these states (frequency of each digit): $t_0, t_1..., t_9$.\n",
    "- we want to generate a sample of N digit values, $n_0, n_1,...,n_9$, whose distribution \n",
    "   $p_i = n_i/\\Sigma n$ (n.b. $ \\Sigma n = N$) approaches the target distribution $t$ (that is, \n",
    "   $p_0 \\approx t_0$, $p_1 \\approx t_1$, etc). In other words, \n",
    "   we want the histogram of that sample to have the same shape as the target distribution.\n",
    "- for simplicity, we draw the next digit randomly and uniformly from all 10 possibilities\n",
    "- if we accept all the new proposed digits, we'll end up with a uniform distribution (because\n",
    "  that's how we are drawing the new values)\n",
    "- hence, **the key is to reject some proposed digits so that the remaining ones resemble the desired\n",
    "  target distribution**\n",
    "\n",
    "<img src=\"figures/digits.tiff\" alt=\"Drawing\" style=\"width: 600px;\"/>\n",
    "\n",
    "The last condition, accepting B with a probability $T(B|A)=p(B)/p(A)$, **guarantees**\n",
    "that we will eventually arrive to a stationary distribution, and that distribution \n",
    "will converge to the input desired distribution. \n",
    "  "
   ]
  },
  {
   "cell_type": "markdown",
   "metadata": {
    "slideshow": {
     "slide_type": "slide"
    }
   },
   "source": [
    "Before going to the 10-states example, let's consider for a moment **a two-state example,\n",
    "with states A and B**. It would be a stretch to call it an MCMC example, but it does\n",
    "address one of the key aspects of MCMC: how to set the rejection (or acceptance)\n",
    "probability for a new \"proposal\".\n",
    "\n",
    "Let's assume that the target probabilities are $t(A)$ and $t(B)$, with $t(A) > t(B)$ \n",
    "without a loss of generality (and of course $t(A) + t(B)=1$). Say, $t(A)=0.9$ and\n",
    "$t(B)=0.1$. We want a sample of $N$ values that can be either A or B, with $t(A)N$ \n",
    "in state A and $t(B)N$ in stateB.\n",
    "\n",
    "We begin by drawing a sample of $N$, say $N=1000$, random values that can be either \n",
    "A or B. We expect that we will have about N/2 values of A and about N/2 values of B. \n",
    "This is **not** what we want! (we want to have 900 A values and 100 B values, not\n",
    "500 and 500). Therefore, we need to ** take a fraction of proposed B values and\n",
    "re-assign them to A** (in other words, *reject* them from the proposed B subset). \n",
    "How do we choose them? \n",
    "\n",
    "In a steady state described by the target probabilities, we expect that out of N/2 \n",
    "proposed B values, about $t(A)N/2$ were drawn when the system was in A state, and \n",
    "about $t(B)N/2$ when the system was in B state. Hence, in the former case the system \n",
    "is in the more probable A state and the proposal is to move to the less probable B state. \n",
    "Again, if we accept all proposals, we will not end up with the desired distribution. \n",
    "Instead, we need to **reject** a fraction $x_A$ of these $t(A)N/2$ proposals to adopt \n",
    "(the less probable) B state and thus accept (stick with) $x_At(A)N/2$ current A states. \n",
    "\n",
    "As a result, we will have a total of $\\left(N/2 + x_At(A)N/2\\right)$ A states, and we want it \n",
    "to be equal to $t(A)N$. Therefore, we have a condition for the rejection fraction $x_A$:\n",
    "$$ \\frac{N}{2} + x_A\\,t(A)\\,\\frac{N}{2} = t(A)\\,N.$$\n",
    "The solution for the rejection fraction is $x_A = 1 - t(B)/t(A)$, and thus the \n",
    "acceptance probability in cases when the proposal is to go from state A to state B\n",
    "must be \n",
    "$$p_{acc}(B|A) =  t(B)/t(A).$$ \n",
    "In all other cases (A proposed to go to A, and B proposed\n",
    "to go to either state), the proposal is always accepted. \n",
    "\n",
    "In summary, **the acceptance probability** for the two-state system is \n",
    "\n",
    "1) in A, proposed to go to A: accept\n",
    "\n",
    "2) in A, proposed to go to B: accept in p(B)/p(A) cases\n",
    "\n",
    "3) in B, proposed to go to A: accept\n",
    "\n",
    "4) in B, proposed to go to B: accept \n",
    "\n",
    "\n",
    "Let's now do the 10-state example!  "
   ]
  },
  {
   "cell_type": "code",
   "execution_count": 54,
   "metadata": {
    "collapsed": false,
    "scrolled": false
   },
   "outputs": [
    {
     "name": "stdout",
     "output_type": "stream",
     "text": [
      "i= 0  p= [ 1.  0.  0.  0.  0.  0.  0.  0.  0.  0.]\n",
      "i= 5  p= [ 0.57  0.14  0.    0.    0.14  0.    0.14  0.    0.    0.  ]\n",
      "      pi [0.05, 0.1, 0.18, 0.32, 0.15, 0.05, 0.05, 0.02, 0.05, 0.03]\n",
      "\n",
      "Tried  10 and rejected  5\n"
     ]
    },
    {
     "data": {
      "image/png": "[encoded data removed]",
      "text/plain": [
       "<matplotlib.figure.Figure at 0x11c1d9d10>"
      ]
     },
     "metadata": {},
     "output_type": "display_data"
    }
   ],
   "source": [
    "def doSimpleMCMC(pi, priorIndex, Niter, printStep, plot = 0):\n",
    " \n",
    "    # starting states \n",
    "    states = np.array([0, 0, 0, 0, 0, 0, 0, 0, 0, 0])\n",
    "    states[priorIndex] += 1\n",
    "    Nreject = 0\n",
    "\n",
    "    for i in range(0, Niter):\n",
    "        ## get index for the proposed new state: completely random from 10 states \n",
    "        newind = np.random.randint(low=0, high=10) # a number between 0 and 9 (inclusive) \n",
    "        # MCMC rules:\n",
    "        # if a uniform variate 0-1 larger than pi[newind]/pi[priorIndex], reject proposed newind\n",
    "        # and otherwise accept it \n",
    "        reject = 0\n",
    "        if (np.random.uniform() > pi[newind]/pi[priorIndex]):\n",
    "            reject = 1\n",
    "        if (reject):    \n",
    "            states[priorIndex] += 1\n",
    "            Nreject += 1\n",
    "        else:\n",
    "            states[newind] += 1\n",
    "            priorIndex = newind\n",
    "        if (i/printStep*printStep == i):\n",
    "            prob = 1.0*states / np.sum(states)\n",
    "            for j in range(0,np.size(prob)):\n",
    "                prob[j] = float(\"{0:.2f}\".format(prob[j]))  \n",
    "            print 'i=',i,' p=', prob\n",
    "\n",
    "    print '      pi', pi\n",
    "    print ''\n",
    "    print 'Tried ', Niter, 'and rejected ', Nreject\n",
    "\n",
    "    if (plot):\n",
    "        plotP(pi, states)\n",
    "\n",
    "    return states\n",
    "\n",
    "def plotP(pi,states):\n",
    "    prob = 1.0*states / np.sum(states)\n",
    "\n",
    "    # plot\n",
    "    fig, ax = plt.subplots(figsize=(7, 5))\n",
    "\n",
    "    N = np.size(pi)\n",
    "    for i in range(0,N):\n",
    "        plt.plot([i,i+1],[prob[i],prob[i]], c='red')\n",
    "        plt.plot([i,i+1],[pi[i],pi[i]], '-', c='blue')            \n",
    "        if (i < (N-1)):\n",
    "            plt.plot([i+1,i+1],[prob[i],prob[i+1]], c='red')\n",
    "            plt.plot([i+1,i+1],[pi[i],pi[i+1]], '-', c='blue')\n",
    "\n",
    "    plt.xlim(0, 10)\n",
    "    ymax = 1.1*np.max(pi)\n",
    "    if (np.max(prob)>np.max(pi)):\n",
    "        ymax = 1.1*np.max(prob)\n",
    "    plt.ylim(0, ymax)\n",
    "    plt.xlabel('$N$')\n",
    "    plt.ylabel(r'$p(N)$')\n",
    "    plt.title('red: MCMC, blue: target')\n",
    "    plt.show() \n",
    "   \n",
    "\n",
    "# target distribution for 9 states \n",
    "pi = [0.05, 0.10, 0.18, 0.32, 0.15, 0.05, 0.05, 0.02, 0.05, 0.03]\n",
    "startIndex = 0\n",
    "Niter = 10\n",
    "printStep = 1\n",
    "# states = doSimpleMCMC(pi, startIndex, Niter, printStep)\n",
    "states = doSimpleMCMC(pi, startIndex, 10, 5, 1)"
   ]
  },
  {
   "cell_type": "code",
   "execution_count": 55,
   "metadata": {
    "collapsed": false
   },
   "outputs": [
    {
     "name": "stdout",
     "output_type": "stream",
     "text": [
      "i= 0  p= [ 0.5  0.   0.5  0.   0.   0.   0.   0.   0.   0. ]\n",
      "i= 50  p= [ 0.02  0.06  0.31  0.46  0.06  0.02  0.06  0.    0.02  0.  ]\n",
      "      pi [0.05, 0.1, 0.18, 0.32, 0.15, 0.05, 0.05, 0.02, 0.05, 0.03]\n",
      "\n",
      "Tried  100 and rejected  56\n"
     ]
    },
    {
     "data": {
      "image/png": "[encoded data removed]",
      "text/plain": [
       "<matplotlib.figure.Figure at 0x117e95150>"
      ]
     },
     "metadata": {},
     "output_type": "display_data"
    }
   ],
   "source": [
    "states = doSimpleMCMC(pi, startIndex, 100, 50, 1)"
   ]
  },
  {
   "cell_type": "code",
   "execution_count": 56,
   "metadata": {
    "collapsed": false
   },
   "outputs": [
    {
     "name": "stdout",
     "output_type": "stream",
     "text": [
      "i= 0  p= [ 0.5  0.   0.5  0.   0.   0.   0.   0.   0.   0. ]\n",
      "i= 5000  p= [ 0.05  0.1   0.18  0.32  0.15  0.06  0.05  0.02  0.05  0.03]\n",
      "      pi [0.05, 0.1, 0.18, 0.32, 0.15, 0.05, 0.05, 0.02, 0.05, 0.03]\n",
      "\n",
      "Tried  10000 and rejected  4497\n"
     ]
    },
    {
     "data": {
      "image/png": "[encoded data removed]",
      "text/plain": [
       "<matplotlib.figure.Figure at 0x11bc9e810>"
      ]
     },
     "metadata": {},
     "output_type": "display_data"
    }
   ],
   "source": [
    "states = doSimpleMCMC(pi, startIndex, 10000, 5000, 1)"
   ]
  },
  {
   "cell_type": "code",
   "execution_count": 48,
   "metadata": {
    "collapsed": false
   },
   "outputs": [
    {
     "data": {
      "image/png": "[encoded data removed]",
      "text/plain": [
       "<matplotlib.figure.Figure at 0x11c26eb50>"
      ]
     },
     "metadata": {},
     "output_type": "display_data"
    },
    {
     "name": "stdout",
     "output_type": "stream",
     "text": [
      "NOTE: Ndata= 100 sigmaData= 0.5 so sigma_mu= 0.05\n"
     ]
    }
   ],
   "source": [
    "np.random.seed(21)\n",
    "\n",
    "def Likelihood(x,sigma, data):\n",
    "    # Gaussian likelihood \n",
    "    return np.prod(np.exp(-(data-x)**2/2/sigma**2))\n",
    "\n",
    "def Prior(x):\n",
    "    return 1.0/10   # flat: it cancels out and has no effect \n",
    "\n",
    "def myPosterior(x, sigma, data):\n",
    "    return Likelihood(x, sigma, data)*Prior(x)\n",
    "\n",
    "## generate data\n",
    "Ndata = 100\n",
    "mu = 1.0\n",
    "sigma = 0.5 # assumed known \n",
    "data = stats.norm(mu, sigma).rvs(Ndata)\n",
    "\n",
    "# plot likelihood function \n",
    "muMin = mu - 6*sigma\n",
    "muMax = mu + 6*sigma\n",
    "muGrid = np.linspace(muMin, muMax, 500)\n",
    "posterior = 0*muGrid\n",
    "\n",
    "for j in range(0,np.size(muGrid)):\n",
    "    posterior[j] = myPosterior(muGrid[j], sigma, data)\n",
    "\n",
    "L1 = norm(data[1], sigma).pdf(muGrid) \n",
    "L2 = norm(data[2], sigma).pdf(muGrid) \n",
    "L3 = norm(data[3], sigma).pdf(muGrid) \n",
    "L1 = L1/np.max(L1)\n",
    "L2 = L2/np.max(L2)\n",
    "L3 = L3/np.max(L3)\n",
    "L123 = L1 * L2 * L3\n",
    "L123 = L123/np.max(L123)\n",
    "posteriorNorm = posterior/np.max(posterior)\n",
    "# plot\n",
    "fig, ax = plt.subplots(figsize=(7, 5))\n",
    "plt.plot(muGrid, L1, ls='-', c='green', label=r'$x_1$')\n",
    "plt.plot(muGrid, L2, ls='-', c='red', label=r'$x_2$')\n",
    "plt.plot(muGrid, L3, ls='-', c='blue', label=r'$x_3$')\n",
    "plt.plot(muGrid, L123, ls='--', c='black', label=r'$x\\{_1, x_2, x_3\\}$')\n",
    "plt.plot(muGrid, posteriorNorm, ls='-', c='black', label=r'$p(\\mu\\,|\\,\\{x\\})$')\n",
    "\n",
    "plt.hist(data, bins = 'auto', normed=1, histtype = 'stepfilled', alpha=0.2)\n",
    "\n",
    "plt.xlim(muMin, muMax)\n",
    "plt.ylim(0, 1.1)\n",
    "plt.xlabel('$\\mu$')\n",
    "plt.ylabel(r'$p(\\mu\\,|\\,\\{x\\})$')\n",
    "plt.title('All renormalized to 1 at the peak')\n",
    "plt.legend()\n",
    "plt.show() \n",
    "\n",
    "sigMu = sigma/np.sqrt(Ndata)\n",
    "print 'NOTE: Ndata=', Ndata, 'sigmaData=', sigma, 'so sigma_mu=', sigMu"
   ]
  },
  {
   "cell_type": "code",
   "execution_count": 52,
   "metadata": {
    "collapsed": false
   },
   "outputs": [
    {
     "data": {
      "image/png": "[encoded data removed]",
      "text/plain": [
       "<matplotlib.figure.Figure at 0x117eca6d0>"
      ]
     },
     "metadata": {},
     "output_type": "display_data"
    },
    {
     "name": "stdout",
     "output_type": "stream",
     "text": [
      "NOTE: we accept if a uniform random number (0-1) falls below the black dotted curve.\n"
     ]
    }
   ],
   "source": [
    "## illustrate Metropolis-Hastings algorithm \n",
    "muStart = 0.95\n",
    "posteriorStart = myPosterior(muStart, sigma, data)\n",
    "pRatio = posterior/posteriorStart\n",
    "\n",
    "# plot \n",
    "fig = plt.figure(figsize=(9, 5))\n",
    "fig.subplots_adjust(left=0.11, right=0.95, wspace=0.35, bottom=0.18)\n",
    "ax0 = fig.add_subplot(111)\n",
    "ax0.axis([0.8, 1.3, 0, 1.1*np.max(pRatio)])\n",
    "plt.xlabel('$\\mu$')\n",
    "plt.ylabel('p($\\mu^{new}\\,|\\,$data,I)/($\\mu=0.95\\,|\\,$data,I)')\n",
    "plt.plot([0.8,1.0],[1.0,1.0], '-', c='cyan')\n",
    "plt.plot([0.95,0.95],[0.0,2.0], '--', c='green', label=r'current $\\mu_i$')\n",
    "\n",
    "# plot proposal distribution\n",
    "muG = np.linspace(0.0, 2.0,500)\n",
    "sigmaProp = 0.1\n",
    "prop = norm(muStart, sigmaProp).pdf(muG) \n",
    "plt.plot(muG, prop, c='red', label=r'Proposal K($\\mu^\\ast|\\mu_{i}$)')\n",
    "plt.plot(muGrid, pRatio, label=r'$p_{acc}=p(\\mu^\\ast)/p(\\mu_i)$')\n",
    "plt.plot(muGrid[pRatio<1], pRatio[pRatio<1], '.', c='black',label=r'prob. acceptance')\n",
    "plt.plot(muGrid[pRatio>1], 1+0*muGrid[pRatio>1], '.', c='black')\n",
    "ax0.legend(loc=2, prop=dict(size=14))\n",
    "plt.show() \n",
    "\n",
    "print 'NOTE: we accept if a uniform random number (0-1) falls below the black dotted curve.'"
   ]
  },
  {
   "cell_type": "code",
   "execution_count": 34,
   "metadata": {
    "collapsed": false
   },
   "outputs": [
    {
     "name": "stdout",
     "output_type": "stream",
     "text": [
      "NNN(arp):  2514 2485 1248\n"
     ]
    }
   ],
   "source": [
    "## generate a chain using Metropolis-Hastings algorithm \n",
    "\n",
    "# Markov chain \n",
    "M = 5000  # the requested number of steps in the chain\n",
    "chain = np.linspace(0,1,M)\n",
    "chain[0] = 0.5 # starting position\n",
    "Pold = myPosterior(chain[0], sigma, data)\n",
    "\n",
    "# gaussian width for \"jumping\" from the current position\n",
    "#    sigmaProp            Na   Nr   Np     \n",
    "# sigmaProp = 0.03    #  3992 1007 1968   (high acc, long burn-in) \n",
    "# sigmaProp = 0.3     #  1043 3956  534   (low acc, short burn-in) \n",
    "sigmaProp = 0.10      #  2514 2485 1248        \n",
    "\n",
    "Na = Nr = Np = 0\n",
    "# and now sample M times\n",
    "for i in range(1,M):\n",
    "    # 1) generate a new value: a gaussian jump from current value\n",
    "    Cold = chain[i-1]\n",
    "    Cnew = stats.norm(Cold, sigmaProp).rvs(1)\n",
    "    Pnew = myPosterior(Cnew, sigma, data)\n",
    "    # 2) acceptance condition \n",
    "    Pratio = Pnew / Pold  \n",
    "    if (Pratio > 1): \n",
    "        Np += 1   # just a counter, nothing else is done \n",
    "    # if we only accept Pratio>1, we'll get a hill-climbing algorithm\n",
    "    # instead, we'll randomly accept this proposal with probability Pratio \n",
    "    randNumber = stats.uniform(0, 1).rvs(1)\n",
    "    if (randNumber < Pratio):\n",
    "        # accepting this new proposed value\n",
    "        chain[i] = Cnew\n",
    "        Pold = Pnew\n",
    "        Na += 1\n",
    "    else:\n",
    "        # rejecting the proposed value and stickin' with the previous one \n",
    "        chain[i] = Cold\n",
    "        Nr += 1\n",
    " \n",
    "print 'NNN(arp): ', Na, Nr, Np "
   ]
  },
  {
   "cell_type": "code",
   "execution_count": 35,
   "metadata": {
    "collapsed": false
   },
   "outputs": [
    {
     "data": {
      "image/png": "[encoded data removed]",
      "text/plain": [
       "<matplotlib.figure.Figure at 0x114026490>"
      ]
     },
     "metadata": {},
     "output_type": "display_data"
    }
   ],
   "source": [
    "# start plot \n",
    "fig = plt.figure(figsize=(9, 5))\n",
    "fig.subplots_adjust(left=0.11, right=0.95, wspace=0.35, bottom=0.18)\n",
    "\n",
    "ax0 = fig.add_subplot(131)\n",
    "muGrid = np.linspace(mu-sigma,mu+sigma,500)\n",
    "posterior = 0*muGrid\n",
    "for j in range(0,np.size(muGrid)):\n",
    "    posterior[j] = myPosterior(muGrid[j], sigma, data)\n",
    "plt.plot(muGrid, posterior)\n",
    "ax0.axis([mu-sigma, mu+sigma, 0, 1.1*np.max(posterior)])\n",
    "plt.xlabel('$\\mu$')\n",
    "plt.ylabel('p($\\mu\\,|\\,$data,I)')\n",
    "\n",
    "ax1 = fig.add_subplot(132)\n",
    "x = np.linspace(1,M,M)\n",
    "plt.plot(x, chain)\n",
    "ax1.axis([0, M, np.min(chain), 1.1*np.max(chain)])\n",
    "plt.xlabel('number')\n",
    "plt.ylabel('chain')\n",
    "# plot running mean: \n",
    "meanC = [np.mean(chain[:int(N)]) for N in x]\n",
    "ax1.plot(x, meanC,c='red') \n",
    "ax1.plot(x, 0*x+np.mean(data),c='yellow') \n",
    "\n",
    "ax2 = fig.add_subplot(133)\n",
    "# skip first Nburn samples\n",
    "Nburn = 1000\n",
    "Nchain = np.size(chain[x>Nburn])\n",
    "Nhist, bins, patches = plt.hist(chain[x>Nburn], bins = 'auto', histtype = 'stepfilled')\n",
    "# plot expectations based on CLT\n",
    "binwidth = bins[1]-bins[0]\n",
    "muCLT = np.mean(data)\n",
    "sigCLT = np.std(data)/np.sqrt(Ndata)\n",
    "muGrid = np.linspace(mu-sigma,mu+sigma,500)\n",
    "gauss = Nchain*binwidth*stats.norm(muCLT, sigCLT).pdf(muGrid) \n",
    "ax2.plot(muGrid, gauss, c='red') \n",
    "ax2.set_ylabel('p(chain)')\n",
    "ax2.set_xlabel('chain values')\n",
    "ax2.set_xlim(mu-sigma, mu+sigma)\n",
    "ax2.set_ylim(0, 1.2*np.max(gauss))\n",
    "\n",
    "plt.show() "
   ]
  },
  {
   "cell_type": "markdown",
   "metadata": {
    "slideshow": {
     "slide_type": "slide"
    }
   },
   "source": [
    "##  Markov Chain Monte Carlo\n",
    "\n",
    "*Various MCMC algorithms differ in their choice of transition kernel*\n",
    "\n",
    "**The Metropolis-Hastings algorithm** adopts acceptance probability\n",
    "$$ p_{\\rm acc}(\\theta_i,\\theta_{i+1}) = { p(\\theta_{i+1}) \\over p(\\theta_i) }, $$\n",
    "where the proposed point $\\theta_{i+1}$ is drawn from an *arbitrary* symmetric density distribution $K(\\theta_{i+1}\\,|\\,\\theta_i)$. A Gaussian distribution centered on \n",
    "$\\theta_i$ is often used for $K(\\theta_{i+1}|\\theta_i)$.\n",
    "\n",
    "\n",
    "\n",
    "## Caveats\n",
    "\n",
    "Although $K(\\theta_{i+1}|\\theta_i)$ satisfies a Markov chain requirement that it\n",
    "must be a function of only the current position $\\theta_i$, it takes a number\n",
    "of steps to reach a stationary distribution from an initial arbitrary position $\\theta_0$.\n",
    "**These early steps are called the \"burn-in\" and need to be discarded in analysis.**\n",
    "There is no general theory for finding transition from the burn-in phase to\n",
    "the stationary phase; several methods are used in practice. Gelman and Rubin\n",
    "proposed to generate a number of chains and then compare the ratio of\n",
    "the variance between the chains to the mean variance within the chains (this\n",
    "ratio is known as the $R$ statistic). For stationary chains, this ratio will\n",
    "be close to 1.  \n",
    "\n",
    "When the posterior pdf is multimodal, the simple Metropolis--Hastings algorithm can\n",
    "become stuck in a local mode and not find the globally best mode within a reasonable\n",
    "running time. There are a number of better algorithms, such as Gibbs sampling, parallel\n",
    "tempering, various genetic algorithms, and nested sampling.\n",
    "\n",
    "\n",
    "\n",
    "<img src=\"figures/Andrieu4.tiff\" alt=\"Drawing\" style=\"width: 600px;\"/>\n",
    "\n",
    "\n",
    "\n"
   ]
  },
  {
   "cell_type": "code",
   "execution_count": null,
   "metadata": {
    "collapsed": true
   },
   "outputs": [],
   "source": []
  }
 ],
 "metadata": {
  "anaconda-cloud": {},
  "celltoolbar": "Slideshow",
  "kernelspec": {
   "display_name": "Python 2",
   "language": "python",
   "name": "python2"
  },
  "language_info": {
   "codemirror_mode": {
    "name": "ipython",
    "version": 2
   },
   "file_extension": ".py",
   "mimetype": "text/x-python",
   "name": "python",
   "nbconvert_exporter": "python",
   "pygments_lexer": "ipython2",
   "version": "2.7.13"
  },
  "livereveal": {
   "scroll": true,
   "start_slideshow_at": "selected",
   "theme": "sky"
  }
 },
 "nbformat": 4,
 "nbformat_minor": 0
}
