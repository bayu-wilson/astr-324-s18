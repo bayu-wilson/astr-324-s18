{
 "cells": [
  {
   "cell_type": "markdown",
   "metadata": {
    "slideshow": {
     "slide_type": "slide"
    }
   },
   "source": [
    "# Time Series Analysis: Stochastic Variability\n",
    "\n",
    "Z. Ivezic (2018) and M. Juric (2017), with materials from Richards, Connolly; Chapter 10. in the textbook.\n",
    " "
   ]
  },
  {
   "cell_type": "markdown",
   "metadata": {
    "slideshow": {
     "slide_type": "slide"
    }
   },
   "source": [
    "Let's go back to Fourier analysis. We said that the power spectral density (PSD)\n",
    "for a sinusoidal variation is delta function at that frequency (i.e. the PSD is \n",
    "the amplitude of the Fourier transform as a function of frequency). \n",
    "\n",
    "Here is a slightly more complex example: a chirp, where the frequency of variation\n",
    "is steadily increasing with time. \n",
    "\n",
    "<img src=\"figures/PSDchirp.png\" style=\"float: left; width: 90%; margin-right: 1%;\"> \n",
    " "
   ]
  },
  {
   "cell_type": "markdown",
   "metadata": {
    "slideshow": {
     "slide_type": "slide"
    }
   },
   "source": [
    "We can compute power spectral density (PSD) for any time series. For illustration,\n",
    "here are examples of time series where underlying PSD is a power law. \n",
    "The $PSD = 1/f^2$ case is called \"red noise\" and the $PSD = 1/f$ case is called \n",
    "\"pink noise\" (because a flat PSD is called white noise). \n",
    "\n",
    "These are famous examples of stochastic processes. The \"red noise\" process is \n",
    "also known as Brownian motion, and as random walk (or “drunkard’s walk”). The\n",
    "\"white noise\", or noise of uncorrelated random variables with zero mean and \n",
    "constant variance, is also known as \"thermal\" or Johnson's noise. \n",
    "\n",
    "<img src=\"figures/PSDcolorednoise.png\" style=\"float: left; width: 90%; margin-right: 1%;\"> \n",
    " "
   ]
  },
  {
   "cell_type": "markdown",
   "metadata": {
    "slideshow": {
     "slide_type": "slide"
    }
   },
   "source": [
    "\n",
    " \n",
    "A few things to notice:\n",
    "* The overall power (the amplitude) of the signal is determined by the power at low frequencies in the PSD. Those are set to the same value and thus the overall amplitude of the signal is similar.\n",
    "* Because the power at high frequency is larger for $1/f$, that light curve looks noisier.\n",
    "* We can even *hear* the difference: [https://www.youtube.com/watch?v=3vEDZ-_iLNU)](https://www.youtube.com/watch?v=3vEDZ-_iLNU)"
   ]
  },
  {
   "cell_type": "markdown",
   "metadata": {},
   "source": [
    "## Different stochastic processes\n",
    "\n",
    "* A stochastic process with $1/f^2$ spectrum is known as random walk (if discrete) or Brownian motion (or, more accurately, Wiener process) if continuous. These physically occur when the value being observed is subjected to a series of independent changes of similar size. It's also sometimes called as \"red noise\". Quasar variability exhibits $1/f^2$ properties at high frequencies (that is, short time scales, below a year or so). \n",
    "* A stochastic process with $1/f$ spectrum are sometimes called \"long-term memory processes\" (also sometimes know as \"pink noise\"). They have equal energy at all octaves (or over any other logarithmic frequency interval). This type of process has infinite variance and an undefined mean (remember the Lorentzian? this is similar.). \n",
    "* A process with a constant PSD is frequently referred to as \"white nose\" -- it has equal intensity at all frequencies. This is a process with no memory -- each measurement is independent of all others. "
   ]
  },
  {
   "cell_type": "code",
   "execution_count": null,
   "metadata": {},
   "outputs": [],
   "source": []
  },
  {
   "cell_type": "markdown",
   "metadata": {
    "slideshow": {
     "slide_type": "slide"
    }
   },
   "source": [
    "Take a (stochastically varying) quasar which has both *line* and *continuum* emission and where the line emission is stimulated by the continuum.\n",
    "\n",
    "Since there is a physical separation between the regions that produce each type of emission, we get a delay between the light curves as can be seen here:\n",
    "\n",
    "![Peterson 2001, RM](https://ned.ipac.caltech.edu/level5/Sept01/Peterson2/Figures/figure24.jpg)"
   ]
  },
  {
   "cell_type": "markdown",
   "metadata": {
    "slideshow": {
     "slide_type": "slide"
    }
   },
   "source": [
    "## Correlation function\n",
    "\n",
    "To understand stochastic processes, let's first talk about [correlation functions](https://en.wikipedia.org/wiki/Correlation_function).  A correlation function ($\\S$ 6.5) **gives us information about the time delay between two processes**.\n",
    "\n",
    "The correlation function between $f(t)$, and $g(t)$ is defined as\n",
    "$${\\rm CF}(\\Delta t) = \\frac{\\lim_{T\\rightarrow \\infty}\\frac{1}{T}\\int_T f(t)g(t+\\Delta t)dt }{\\sigma_f \\sigma_g}$$\n",
    "\n",
    "If one time series is derived from another simply by shifting the time axis by $t_{\\rm lag}$, then their correlation function will have a peak at $\\Delta t = t_{\\rm lag}$."
   ]
  },
  {
   "cell_type": "markdown",
   "metadata": {
    "slideshow": {
     "slide_type": "slide"
    }
   },
   "source": [
    "Computing the correlation function is basically the mathematical processes of sliding the two curves over each other and computing the degree of similarity for each step in time.  The peak of the correlation function reveals the time delay between the processes.  Below we have the correlation function of the line and continuum emission from a quasar, which reveals a $\\sim$ 15 day delay between the two.\n",
    "\n",
    "![Peterson 2001, RM](https://ned.ipac.caltech.edu/level5/Sept01/Peterson2/Figures/figure25.jpg)"
   ]
  },
  {
   "cell_type": "markdown",
   "metadata": {
    "slideshow": {
     "slide_type": "slide"
    }
   },
   "source": [
    "Note: this is the temporal correlation function, but more generally the we can compute the CF over any parameter of interest (typically it's space or time).\n",
    "\n",
    "Here's an example of angular galaxy correlation function:\n",
    "![Connolly '02](figures/angular-cf-Connolly02.jpg)\n",
    "(from Connolly et al., 2002, *The Angular Correlation Function of Galaxies from Early Sloan Digital Sky Survey Data*)."
   ]
  },
  {
   "cell_type": "markdown",
   "metadata": {},
   "source": [
    "## Auto-correlation Function\n",
    "\n",
    "In an **autocorrelation function (ACF)**, $f(t)= g(t) \\equiv y(t)$ and we instead are revealing information about variability timescales present in a process.\n",
    "\n",
    "$${\\rm ACF}(\\Delta t) = \\frac{\\lim_{T\\rightarrow \\infty}\\frac{1}{T}\\int_T y(t)y(t+\\Delta t)dt }{\\sigma_y^2}$$\n",
    " "
   ]
  },
  {
   "cell_type": "markdown",
   "metadata": {},
   "source": [
    "## What can the ACF tell us?\n",
    "\n",
    "If the values of $y$ are uncorrelated, then ACF$(\\Delta t)=0$ (except for ACF$(0)=1$).\n",
    "\n",
    "For processes that \"retain memory\" of previous states only for some characteristic time $\\tau$, the ACF will vanish for $\\Delta t \\gg \\tau$.\n",
    "\n",
    "Turning that around, the predictability of future behavior of future behavior of such a process is limited to times up to $\\sim \\tau$; you have to \"let the process run\" to know how it will behave at times longer than that.\n"
   ]
  },
  {
   "cell_type": "markdown",
   "metadata": {
    "slideshow": {
     "slide_type": "slide"
    }
   },
   "source": [
    "## Power Spectral Density\n",
    "\n",
    "The Fourier Transform of an ACF is the [Power Spectral Density (PSD)](https://en.wikipedia.org/wiki/Spectral_density).  So, the PSD is an analysis in frequency space and the ACF is in time space (the Wiener-Khinchin theorem describes the \n",
    "fact that the ACF and PSD are a Fourier pair). \n",
    "\n",
    "For example, for a sinusoidal function in time space, the ACF will have the same period, $T$. Conversly, the PSD in frequency space will be a $\\delta$ function centered on $\\omega = 1/2\\pi T$."
   ]
  },
  {
   "cell_type": "markdown",
   "metadata": {},
   "source": [
    "## The Structure Function\n",
    "\n",
    "The *structure function* is another quantity that is frequently used in astronomy and is related to the ACF:\n",
    "\n",
    "$${\\rm SF}(\\Delta t) = {\\rm SF}_\\infty[1 - {\\rm ACF}(\\Delta t)]^{1/2},$$\n",
    "\n",
    "where ${\\rm SF}_\\infty$ is the standard deviation of the time series as evaluated on timescales much larger than any charateristic timescale."
   ]
  },
  {
   "cell_type": "markdown",
   "metadata": {},
   "source": [
    "### Why Structure Function?\n",
    "\n",
    "The structure function is interesting because it's equal to the standard deviation of the distribution of the differences of $y(t_2) - y(t_1)$ evaluated at many different $t_1$ and $t_2$ (i.e., with a time lag of $\\Delta t = t_2 - t_1$), and divided by $\\sqrt 2$.\n",
    "\n",
    "This is of practical use: if I have a series of observations $y_i$ (taken at random times $t_i$) it's relatively straighforward to compute the structure function."
   ]
  },
  {
   "cell_type": "markdown",
   "metadata": {
    "slideshow": {
     "slide_type": "slide"
    }
   },
   "source": [
    "###  Structure Function for Dampled Random Walk\n",
    "\n",
    "<img src=\"figures/drwMacLeod.png\" alt=\"Drawing\" style=\"width: 500px;\"/>\n"
   ]
  },
  {
   "cell_type": "markdown",
   "metadata": {
    "slideshow": {
     "slide_type": "slide"
    }
   },
   "source": [
    "### Connection to the PSD\n",
    "\n",
    "If we find that ${\\rm SF} \\propto t^{\\alpha}$, then one can show that the ${\\rm PSD} \\propto \\frac{1}{f^{1+2\\alpha}}$.\n",
    "\n",
    "So by estimating the SF, we can learn something about the PSD of the physical (stochastic) process that's generating the variability."
   ]
  },
  {
   "cell_type": "markdown",
   "metadata": {
    "slideshow": {
     "slide_type": "slide"
    }
   },
   "source": [
    "### Damped Random Walk\n",
    "\n",
    "DRW is described by a stochastic differential equation which includes a damping term that pushes $y(t)$ back towards the mean, hence the name **damped random walk**.   \n",
    "\n",
    "The ACF for a DRW is given by\n",
    "$$ ACF(t) = \\exp(-t/\\tau),$$\n",
    "where $\\tau$ is the characteristic timescale (i.e., the damping timescale).\n",
    "\n",
    "The DRW structure function can be written as\n",
    "$$ SF(t) = SF_{\\infty}[1-\\exp(-t/\\tau)]^{1/2}.$$\n",
    "\n",
    "The PSD is then\n",
    "$$ PSD(f) = \\frac{\\tau^2 SF_{\\infty}^2}{1+(2\\pi f \\tau)^2},$$\n",
    "which means that a DRW is a $1/f^2$ process at high frequency.  The *damped* part comes from the flat PSD at low frequency.\n",
    "\n",
    "The SF example above was an example of a DRW: the light curve is strongly correlated a short timescales, but uncorrelated at long timescales. This is observed in optical variability of quasar continuum light; in fact, it works so well that one can use this model to distinguish quasars from stars, based solely on the variability they exhibit."
   ]
  },
  {
   "cell_type": "markdown",
   "metadata": {
    "slideshow": {
     "slide_type": "slide"
    }
   },
   "source": [
    "## Examples of Stochastic Processes\n",
    "\n",
    "So an analysis of a stochastic system can be done with either the ACF, SF, or PSD.\n",
    "\n",
    "AstroML has [time series](http://www.astroml.org/modules/classes.html#module-astroML.time_series) and [Fourier](http://www.astroml.org/modules/classes.html#module-astroML.fourier) tools for generating light curves drawn from a power law in frequency space.  Note that these tools define $\\beta = 1+2\\alpha$  ($\\beta=2$ for \"red noise\", or random\n",
    "walk). \n",
    "\n",
    "Let's play with the code below to make a plot of counts vs. time and of the PSD vs. frequency for both a $1/f$ and a $1/f^2$ process.   "
   ]
  },
  {
   "cell_type": "code",
   "execution_count": 6,
   "metadata": {
    "slideshow": {
     "slide_type": "slide"
    }
   },
   "outputs": [
    {
     "data": {
      "image/png": "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\n",
      "text/plain": [
       "<matplotlib.figure.Figure at 0x17140793c8>"
      ]
     },
     "metadata": {},
     "output_type": "display_data"
    }
   ],
   "source": [
    "import numpy as np\n",
    "from matplotlib import pyplot as plt\n",
    "from astroML.time_series import generate_power_law\n",
    "from astroML.fourier import PSD_continuous\n",
    "\n",
    "N = 2014\n",
    "dt = 0.01\n",
    "beta = 2 ## Change this from 1 to 2 (or higher, or lower)\n",
    "\n",
    "t = dt * np.arange(N)\n",
    "y = generate_power_law(N, dt, beta) ## Complete\n",
    "f, PSD = PSD_continuous(t, y) ## Complete\n",
    "    \n",
    "fig = plt.figure(figsize=(8, 4))\n",
    "ax1 = fig.add_subplot(121)\n",
    "ax1.plot(t, y, '-k')\n",
    "ax1.set_xlim(0, 10)\n",
    "ax1.set_xlabel(r'$t$')\n",
    "\n",
    "ax2 = fig.add_subplot(122, xscale='log', yscale='log')\n",
    "ax2.plot(f, PSD, '-k')   \n",
    "ax2.set_xlim(1E-1, 60)\n",
    "ax2.set_ylim(1E-11, 1E-3)\n",
    "ax2.set_xlabel(r'$f$')\n",
    "\n",
    "plt.show()"
   ]
  },
  {
   "cell_type": "markdown",
   "metadata": {},
   "source": [
    "### ACF for Unevenly Sampled Data\n",
    "\n",
    "It's relatively strightforward to show that for evenly sampled discrete data, the autocorrelation function is equal to:\n",
    "\n",
    "$$ ACF(j) = \\frac{\\sum_{i=1}^{N-j} \\left[(y_i - \\bar{y})(y_{i+j} - \\bar{y})\\right]}{\\sum_{i=1}^{N} \\left(y_i - \\bar{y}\\right)^2} $$\n",
    "\n",
    "Life is generally not that kind; the data we collect are typically unevenly sampled, requiring more sophisticated estimators."
   ]
  },
  {
   "cell_type": "markdown",
   "metadata": {
    "slideshow": {
     "slide_type": "slide"
    }
   },
   "source": [
    "### AstroML tools for Generation and Analysis of Stochastic Data\n",
    "\n",
    "astroML also has tools for computing the ACF of unevenly sampled data using two different (Scargle) and (Edelson & Krolik) methods: [http://www.astroml.org/modules/classes.html#module-astroML.time_series](http://www.astroml.org/modules/classes.html#module-astroML.time_series). This is described in more detail in $\\S$ 10.5.2 in the textbook.\n",
    "\n",
    "One of the tools is for generating a **damped random walk (DRW)**.  Above we learned that a random walk had a $1/f^2$ PSD.  A *damped* random walk is a process \"remembers\" its history only for a characteristic time, $\\tau$. The ACF vanishes for $\\Delta t \\gg \\tau$."
   ]
  },
  {
   "cell_type": "code",
   "execution_count": 7,
   "metadata": {
    "slideshow": {
     "slide_type": "slide"
    }
   },
   "outputs": [],
   "source": [
    "# Syntax for EK and Scargle ACF computation\n",
    "import numpy as np\n",
    "from astroML.time_series import generate_damped_RW\n",
    "from astroML.time_series import ACF_scargle, ACF_EK\n",
    "\n",
    "t = np.arange(0,1000)\n",
    "y = generate_damped_RW(t, tau=300)\n",
    "dy = 0.1\n",
    "y = np.random.normal(y,dy)\n",
    "\n",
    "ACF_scargle, bins_scargle = ACF_scargle(t,y,dy)\n",
    "ACF_EK, ACF_err_EK, bins_EK = ACF_EK(t,y,dy)"
   ]
  },
  {
   "cell_type": "markdown",
   "metadata": {
    "slideshow": {
     "slide_type": "slide"
    }
   },
   "source": [
    "Figure 10.30 below gives an example of an ACF for a DRW, which mimics the variability that we might see from a quasar.  (Note that the Scargle method doesn't seem to be working.)"
   ]
  },
  {
   "cell_type": "code",
   "execution_count": 8,
   "metadata": {
    "slideshow": {
     "slide_type": "slide"
    }
   },
   "outputs": [
    {
     "data": {
      "image/png": "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\n",
      "text/plain": [
       "<matplotlib.figure.Figure at 0x17142e16d8>"
      ]
     },
     "metadata": {},
     "output_type": "display_data"
    }
   ],
   "source": [
    "# Ivezic, Figure 10.30\n",
    "# Author: Jake VanderPlas\n",
    "# License: BSD\n",
    "#   The figure produced by this code is published in the textbook\n",
    "#   \"Statistics, Data Mining, and Machine Learning in Astronomy\" (2013)\n",
    "#   For more information, see http://astroML.github.com\n",
    "#   To report a bug or issue, use the following forum:\n",
    "#    https://groups.google.com/forum/#!forum/astroml-general\n",
    "import numpy as np\n",
    "from matplotlib import pyplot as plt\n",
    "\n",
    "from astroML.time_series import lomb_scargle, generate_damped_RW\n",
    "from astroML.time_series import ACF_scargle, ACF_EK\n",
    "\n",
    "#------------------------------------------------------------\n",
    "# Generate time-series data:\n",
    "#  we'll do 1000 days worth of magnitudes\n",
    "\n",
    "t = np.arange(0, 1E3)\n",
    "z = 2.0\n",
    "tau = 300\n",
    "tau_obs = tau / (1. + z)\n",
    "\n",
    "np.random.seed(6)\n",
    "y = generate_damped_RW(t, tau=tau, z=z, xmean=20)\n",
    "\n",
    "# randomly sample 100 of these\n",
    "ind = np.arange(len(t))\n",
    "np.random.shuffle(ind)\n",
    "ind = ind[:100]\n",
    "ind.sort()\n",
    "t = t[ind]\n",
    "y = y[ind]\n",
    "\n",
    "# add errors\n",
    "dy = 0.1\n",
    "y_obs = np.random.normal(y, dy)\n",
    "\n",
    "#------------------------------------------------------------\n",
    "# compute ACF via scargle method\n",
    "C_S, t_S = ACF_scargle(t, y_obs, dy, n_omega=2 ** 12, omega_max=np.pi / 5.0)\n",
    "\n",
    "ind = (t_S >= 0) & (t_S <= 500)\n",
    "t_S = t_S[ind]\n",
    "C_S = C_S[ind]\n",
    "\n",
    "#------------------------------------------------------------\n",
    "# compute ACF via E-K method\n",
    "C_EK, C_EK_err, bins = ACF_EK(t, y_obs, dy, bins=np.linspace(0, 500, 51))\n",
    "t_EK = 0.5 * (bins[1:] + bins[:-1])\n",
    "\n",
    "#------------------------------------------------------------\n",
    "# Plot the results\n",
    "fig = plt.figure(figsize=(8, 8))\n",
    "\n",
    "# plot the input data\n",
    "ax = fig.add_subplot(211)\n",
    "ax.errorbar(t, y_obs, dy, fmt='.k', lw=1)\n",
    "ax.set_xlabel('t (days)')\n",
    "ax.set_ylabel('observed flux')\n",
    "\n",
    "# plot the ACF\n",
    "ax = fig.add_subplot(212)\n",
    "ax.plot(t_S, C_S, '-', c='gray', lw=1, label='Scargle')\n",
    "ax.errorbar(t_EK, C_EK, C_EK_err, fmt='.k', lw=1, label='Edelson-Krolik')\n",
    "ax.plot(t_S, np.exp(-abs(t_S) / tau_obs), '-k', label='True')\n",
    "ax.legend(loc=3)\n",
    "\n",
    "ax.plot(t_S, 0 * t_S, ':', lw=1, c='gray')\n",
    "\n",
    "ax.set_xlim(0, 500)\n",
    "ax.set_ylim(-1.0, 1.1)\n",
    "\n",
    "ax.set_xlabel('t (days)')\n",
    "ax.set_ylabel('ACF(t)')\n",
    "\n",
    "plt.show()"
   ]
  },
  {
   "cell_type": "markdown",
   "metadata": {
    "slideshow": {
     "slide_type": "slide"
    }
   },
   "source": [
    "## Understanding the Observed Behaviors: Autoregressive Models\n",
    "\n",
    "For processes like these that are not periodic, but that \"retain memory\" of previous states, we can use [autogressive models](https://en.wikipedia.org/wiki/Autoregressive_model).\n",
    "\n",
    "A random walk is an example of such a process; every new value is given by the preceeding value plus some noise:\n",
    "\n",
    "$$y_i = y_{i-1} + \\epsilon_i.$$\n",
    "\n",
    "If the coefficient of $y_{i-1}$ is $>1$ then it is known as a *geometric random walk*, which is typical of the stock market.  (So, when you interview for a quant position on Wall Street, you tell them that you are an expert in using autoregressive geometric random walks to model stochastic processes.)"
   ]
  },
  {
   "cell_type": "markdown",
   "metadata": {
    "slideshow": {
     "slide_type": "slide"
    }
   },
   "source": [
    "In the random walk case above, each new value depends only on the immediately preceeding value.  But we can generalize this to include any number (we'll denote it $k$) of previous values:\n",
    "\n",
    "$$y_i = \\sum_{j=1}^k a_j y_{i-j} + \\epsilon_i$$\n",
    "\n",
    "We refer to this as an [**autoregressive (AR)**](https://en.wikipedia.org/wiki/Autoregressive_model) process of order $k$: $AR(k)$.  For a random walk, we have $k=1$, and $a_1=1$.\n",
    "\n",
    "If the data are drawn from a \"stationary\" process (one where it doesn't matter what region of the light curve you sample [so long as it is representative]), the $a_j$ satisfy certain conditions.\n",
    "\n",
    "One thing that we might do then is ask whether a system is more consistent with $a_1=0$ or $a_1=1$ (noise vs. a random walk)."
   ]
  },
  {
   "cell_type": "markdown",
   "metadata": {
    "slideshow": {
     "slide_type": "slide"
    }
   },
   "source": [
    "Below are some example light curves for specific $AR(k)$ processes.  In the first example, $AR(0)$, the light curve is simply responding to noise fluctuations.  In the second example, $AR(1)$, the noise fluctuation responses are persisting for slightly longer as the next time step depends positively on the time before.  For the 3rd example, nearly the full effect of the noise spike from the previous time step is applied again, giving particularly long and high chains of peaks and valleys.  In the 4th example, $AR(2)$, we have long, but low chains of peaks and valleys as a spike persists for an extra time step.  Finally, in the 5th example, the response of a spike in the second time step has the opposite sign as for the first time step, and both have large coefficients, so the peaks and valleys are both quite high and quite narrowly separated.\n",
    "\n",
    "![AR Examples](https://upload.wikimedia.org/wikipedia/commons/thumb/c/ce/ArTimeSeries.svg/1000px-ArTimeSeries.svg.png)"
   ]
  },
  {
   "cell_type": "markdown",
   "metadata": {
    "slideshow": {
     "slide_type": "slide"
    }
   },
   "source": [
    "## Moving Average models\n",
    "\n",
    "A [**moving average (MA)**](https://en.wikipedia.org/wiki/Moving-average_model) process is similar in some ways to an AR process, but is different in other ways.  It is defined as\n",
    "\n",
    "$$y_i = \\epsilon_i + \\sum_{j=1}^qb_j\\epsilon_{i-j}.$$\n",
    "\n",
    "So, for example, an MA(q=1) process would look like\n",
    "$$y_i = \\epsilon_{i} + b_1\\epsilon_{i-1},$$\n",
    "\n",
    "whereas an AR(k=2) process would look like\n",
    "\n",
    "$$y_i = a_1y_{i-1} +  a_2y_{i-2} + \\epsilon_i$$\n",
    "\n",
    "Thus the $MA$ process is similar to an $AR$ process in that the next time step depends on the previous time step, but they are different in terms of how they respond to a *shock*.  In an $MA$ process a shock affects only the current value and $q$ values into the future.  In an $AR$ process a shock affects *all* future values.\n",
    "\n",
    "Below is some code and a plot that illustrates this."
   ]
  },
  {
   "cell_type": "code",
   "execution_count": 9,
   "metadata": {
    "slideshow": {
     "slide_type": "slide"
    }
   },
   "outputs": [
    {
     "data": {
      "image/png": "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\n",
      "text/plain": [
       "<matplotlib.figure.Figure at 0x17142e10b8>"
      ]
     },
     "metadata": {},
     "output_type": "display_data"
    }
   ],
   "source": [
    "%matplotlib inline\n",
    "import numpy as np\n",
    "from matplotlib import pyplot as plt\n",
    "from matplotlib.ticker import MultipleLocator\n",
    "\n",
    "N=10\n",
    "\n",
    "#epsilon = np.array([0,0,0,1,0,0,0,0,0,0,0,0])\n",
    "epsilon = np.zeros(N+2)\n",
    "epsilon[3] = 1\n",
    "yAR=np.zeros(N+2)\n",
    "yMA=np.zeros(N+2)\n",
    "yARMA=np.zeros(N+2)\n",
    "\n",
    "for i in np.arange(N)+2:\n",
    "    # Complete using the coefficients given in the legend text below\n",
    "    yAR[i] = 0.5*yAR[i-1] + 0.2*yAR[i-2] + epsilon[i]\n",
    "    yMA[i] = epsilon[i] + 0.5*epsilon[i-1] + 0.5*epsilon[i-2]\n",
    "    yARMA[i] = 0.5*yARMA[i-1] + 0.25*yARMA[i-2] + epsilon[i] + 0.5*epsilon[i-1]\n",
    "    #print i, yAR[i], yMA[i]\n",
    "\n",
    "fig = plt.figure(figsize=(6, 6))\n",
    "t = np.arange(len(yAR))\n",
    "plt.plot(t,yAR,label=\"AR(2), a_1=0.5, a_2=0.5\")\n",
    "plt.plot(t,yMA,label=\"MA(2), b_1=0.5, b_2=0.5\")\n",
    "plt.plot(t,yARMA,label=\"ARMA(2,1), a_1=0.5, a_2=0.25, b_1=0.5\",zorder=0)\n",
    "plt.xlabel(\"t\")\n",
    "plt.ylabel(\"y\")\n",
    "plt.legend(loc=\"upper right\",prop={'size':8})\n",
    "plt.ylim([0,1.1])\n",
    "ax = plt.axes()\n",
    "ax.xaxis.set_major_locator(plt.MultipleLocator(1.0))\n",
    "\n",
    "plt.show()"
   ]
  },
  {
   "cell_type": "markdown",
   "metadata": {
    "slideshow": {
     "slide_type": "slide"
    }
   },
   "source": [
    "Note that I also included an ARMA(2,1) model, which combines AR(2) and MA(1):\n",
    "$$y_i = a_1y_{i-1} +  a_2y_{i-2} + \\epsilon_i + b_1 \\epsilon_{i-1}.$$"
   ]
  },
  {
   "cell_type": "markdown",
   "metadata": {
    "slideshow": {
     "slide_type": "slide"
    }
   },
   "source": [
    "### CARMA Models\n",
    "\n",
    "$AR$ and $ARMA$ models assume evenly sampled time-series data.  However, we can extend this to unevenly sampled data with $CAR$ or $CARMA$ processes, where the $C$ stands for *continuous*.  \n",
    "\n",
    "A $CAR(1)$ process is described by a stochastic differential equation which includes a damping term that pushes $y(t)$ back towards the mean, so it is also a **damped random walk (DRW)**.  For evenly sampled data a CAR(1) process is the same as an AR(1) process with $a_1=\\exp(-1/\\tau)$.  That is, the next value is the previous value times the damping factor (plus noise).\n"
   ]
  },
  {
   "cell_type": "markdown",
   "metadata": {
    "slideshow": {
     "slide_type": "slide"
    }
   },
   "source": [
    "## Regression and Classification\n",
    "\n",
    "Regression and Classification for these stochastic models is just the same as before.   With our model and model parameters, we can predict future values via regression, or look for similarities/differences as a function of the model parameters via clustering (unsupervised) or classification (supervised).  Similarly, we can apply dimensionality reduction techniques to help visualize results from high-dimensional models.\n",
    "\n",
    "An important application of stochastic analysis is **Gaussian Process Regression**, which unfortunately we won't have time to cover. "
   ]
  },
  {
   "cell_type": "markdown",
   "metadata": {
    "slideshow": {
     "slide_type": "slide"
    }
   },
   "source": [
    "## The Big Picture\n",
    "\n",
    "Why are we doing all of this (ACF, PSD, SF, AR, MA, ARMA, CARMA...)?\n",
    "\n",
    "To **identify** and **measure** the key properties of stochastic processes, those that make them similar rather than different. We're trying to \"see beyond the noise\". This is what statistics such as ACF, PSD and SF provide us with.\n",
    "\n",
    "Once we've extracted such features (e.g., established that a phenomenon exhibits $\\sim 1/f^2$ noise), we can **model** it (e.g., as random walk or damped random walk). That is the first step in understanding of the physics behind the process (e.g., if the process exhibits memory over a certain timescale $\\tau$, we know it's likely occur in a causally connected region not larger than $c \\tau$).\n",
    "\n",
    "And finally, the **physical explanation** -- what causes the quasar to flicker, or a star to flare -- is then easier to deduce using the hints we obtain with the above."
   ]
  },
  {
   "cell_type": "markdown",
   "metadata": {
    "slideshow": {
     "slide_type": "slide"
    }
   },
   "source": [
    "## A few more Interesting Examples of Time Series Analysis\n",
    "\n",
    "* [Is Seattle Really Seeing an Uptick in Cycling?](http://jakevdp.github.io/blog/2014/06/10/is-seattle-really-seeing-an-uptick-in-cycling/)\n",
    "* [Understanding MA(1) processes](https://www.youtube.com/watch?v=lUhtcP2SUsg)\n",
    "* [Understanding AR(1) processes](https://www.youtube.com/watch?v=AN0a58F6cxA)\n",
    "* [Understanding ARMA(1,1)](https://www.youtube.com/watch?v=Pg0RnP1uLVc)"
   ]
  },
  {
   "cell_type": "code",
   "execution_count": null,
   "metadata": {},
   "outputs": [],
   "source": []
  }
 ],
 "metadata": {
  "anaconda-cloud": {},
  "celltoolbar": "Slideshow",
  "kernelspec": {
<<<<<<< HEAD
   "display_name": "Python [conda env:anaconda3]",
   "language": "python",
   "name": "conda-env-anaconda3-py"
=======
   "display_name": "Python 3",
   "language": "python",
   "name": "python3"
>>>>>>> upstream/master
  },
  "language_info": {
   "codemirror_mode": {
    "name": "ipython",
    "version": 3
   },
   "file_extension": ".py",
   "mimetype": "text/x-python",
   "name": "python",
   "nbconvert_exporter": "python",
   "pygments_lexer": "ipython3",
<<<<<<< HEAD
   "version": "3.5.4"
=======
   "version": "3.6.4"
>>>>>>> upstream/master
  },
  "livereveal": {
   "scroll": "True",
   "theme": "serif"
  }
 },
 "nbformat": 4,
<<<<<<< HEAD
 "nbformat_minor": 1
=======
 "nbformat_minor": 2
>>>>>>> upstream/master
}
