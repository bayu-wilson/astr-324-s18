{
 "cells": [
  {
   "cell_type": "markdown",
   "metadata": {
    "slideshow": {
     "slide_type": "skip"
    }
   },
   "source": [
    "### ASTR-324, Spring 2017, Ivezic & Juric, University of Washington\n",
    "https://github.com/uw-astr-324-s18/astr-324-s18/blob/master/notebooks/Week-2-Tue.ipynb"
   ]
  },
  {
   "cell_type": "markdown",
   "metadata": {
    "slideshow": {
     "slide_type": "slide"
    }
   },
   "source": [
    "# Week 2, Tuesday: Introduction to Probability & Statistics. I"
   ]
  },
  {
   "cell_type": "markdown",
   "metadata": {
    "slideshow": {
     "slide_type": "slide"
    }
   },
   "source": [
    "##### Resources for this notebook include:\n",
    "\n",
    "- [Textbook](http://press.princeton.edu/titles/10159.html) Chapters 3 and 4.  \n",
    "- [Gordon Richard's notebooks](https://github.com/gtrichards/PHYS_T480)\n",
    "- random contributions from a large number of colleagues (e.g. Jake VanderPlas, Andy Connolly)\n",
    "\n",
    "##### Suggested supplemental background reading:\n",
    "\n",
    "[David Hogg: \"Data analysis recipes: Probability calculus for inference\"](https://arxiv.org/abs/1205.4446)"
   ]
  },
  {
   "cell_type": "markdown",
   "metadata": {
    "slideshow": {
     "slide_type": "slide"
    }
   },
   "source": [
    "##### Learning goals for Week 2 (mostly based on Chapter 3 material): \n",
    "\n",
    "- Probability Rules (notation, definitions, conditional probability, Bayes Rule).\n",
    "- How do I robustly estimate location and scale parameters of a one-dimensional data set?  \n",
    "- Statistical distributions and how do we describe them? \n",
    "- Estimators, location and scale, sample vs. population, bias and scatter.\n",
    "\n",
    "\n",
    "- How do I use python to generate various statistical distributions, such as Cauchy, Laplace, etc.  \n",
    "- The Central Limit Theorem. \n",
    "- Robust estimators. \n",
    "- How do I robustly estimate parameters of a two-dimensional Gaussian?  \n",
    "- Bivariate and Multivariate Distribution Functions.  \n",
    "- How do we make a histogram and why? How do we choose optimal bin width?\n",
    "  Do histogram bins need to be same size?  "
   ]
  },
  {
   "cell_type": "markdown",
   "metadata": {
    "slideshow": {
     "slide_type": "slide"
    }
   },
   "source": [
    "## Notation\n",
    "\n",
    "### Variables\n",
    "\n",
    "First we need to go over some of the notation that the book uses.   \n",
    "\n",
    "$x$ is a scalar quantity, measured $N$ times\n",
    "\n",
    "$x_i$ is a single measurement with $i=1,...,N$\n",
    "\n",
    "$\\{x_i\\}$ refers to the set of all N measurements"
   ]
  },
  {
   "cell_type": "markdown",
   "metadata": {
    "slideshow": {
     "slide_type": "slide"
    }
   },
   "source": [
    "### Population vs Empirical PDF\n",
    "\n",
    "We are generally trying to *estimate* $h(x)$, the *true* distribution from which the values of $x$ are drawn. We will refer to $h(x)$ as the probability density (distribution) function or the \"pdf\" and $h(x)dx$ is the propobability of a value lying between $x$ and $x+dx$. \n",
    "\n",
    "While $h(x)$ is the \"true\" pdf (or **population** pdf).  What we *measure* from the data is the **empirical** pdf, which is denoted $f(x)$.  So, $f(x)$ is a *model* of $h(x)$.  In principle, with infinite data $f(x) \\rightarrow h(x)$, but in reality measurement errors keep this from being strictly true."
   ]
  },
  {
   "cell_type": "markdown",
   "metadata": {
    "slideshow": {
     "slide_type": "slide"
    }
   },
   "source": [
    "### Parametric vs. Non-parametric\n",
    "\n",
    "If we are attempting to guess a *model* for $h(x)$, then the process is *parametric*.  With a model solution we can generate new data that should mimic what we measure.\n",
    "\n",
    "If we are not attempting to guess a model, then the process is *nonparametic*.  That is we are just trying to describe the data that we see in the most compact manner that we can, but we are not trying to produce mock data."
   ]
  },
  {
   "cell_type": "markdown",
   "metadata": {
    "slideshow": {
     "slide_type": "slide"
    }
   },
   "source": [
    "## Probability\n",
    "\n",
    "The probability of $A$, $p(A)$, is the probability that some event will happen (say a coin toss), or if the process is continuous, the probability of $A$ falling in a certain range.  (N.B., Technically these two things are different and sometimes are indicated by $P$ and $p$, but we'll ignore that here).\n",
    "\n",
    "$p(A)$ must be positive definite for all $A$ and the sum/integral of the pdf must be unity.\n",
    "\n",
    "If we have two events, $A$ and $B$, the possible combinations are illustrated by the following figure:\n",
    "![Figure 3.1](http://www.astroml.org/_images/fig_prob_sum_1.png)\n",
    "\n",
    "$A \\cup B$ is the *union* of sets $A$ and $B$.\n",
    "\n",
    "$A \\cap B$ is the *intersection* of sets $A$ and $B$.\n",
    "\n",
    "The probability that *either* $A$ or $B$ will happen (which could include both) is the *union*, given by\n",
    "\n",
    "$$p(A \\cup B) = p(A) + p(B) - p(A \\cap B)$$\n",
    "\n",
    "The figure makes it clear why the last term is necessary.  Since $A$ and $B$ overlap, we are double-counting the region where *both* $A$ and $B$ happen, so we have to subtract this out.  \n"
   ]
  },
  {
   "cell_type": "markdown",
   "metadata": {},
   "source": [
    "The probability that *both* $A$ and $B$ will happen, $p(A \\cap B)$, is \n",
    "\n",
    "$$p(A \\cap B) = p(A|B)p(B) = p(B|A)p(A)$$\n",
    "\n",
    "where p(A|B) is the probability of A *given that* B is true and is called the *conditional probability*.  So the $|$ is short for \"given that\".\n",
    "\n",
    "In other words: *\"The probability that both A and B have occured is equal to the probability B has occured times the probability that A will occur if B occured\".*"
   ]
  },
  {
   "cell_type": "markdown",
   "metadata": {
    "slideshow": {
     "slide_type": "slide"
    }
   },
   "source": [
    "If events B_i are disjoint and their union is the set of all possible outcomes, then the **law of total probability** says that:\n",
    "\n",
    "$$p(A) = \\sum_ip(A|B_i)p(B_i)$$\n",
    "\n",
    "Example:\n",
    "\n",
    "    A = hit head on door frame, B = { is tall, is average, is short }\n",
    "    P(A) = P(A|is tall) + P(B|is average) + P(C|is short)"
   ]
  },
  {
   "cell_type": "markdown",
   "metadata": {
    "slideshow": {
     "slide_type": "slide"
    }
   },
   "source": [
    "N.B.  Just to be annoying, different people use different notation and the following all mean the same thing\n",
    "\n",
    "$$p(A \\cap B) = p(A,B) = p(AB) = p(A \\,{\\rm and}\\, B)$$\n",
    "\n",
    "We will use the comma notation as in the textbook."
   ]
  },
  {
   "cell_type": "markdown",
   "metadata": {
    "slideshow": {
     "slide_type": "slide"
    }
   },
   "source": [
    "It is important to realize that the following is *always* true\n",
    "$$p(A,B) = p(A|B)p(B) = p(B|A)p(A)$$\n",
    "\n",
    "However, if $A$ and $B$ are ***independent***, then \n",
    "\n",
    "$$p(A,B) = p(A)p(B)$$\n",
    "\n",
    "Example:\n",
    "\n",
    "     John is successful and John is a Libra.\n",
    "     \n",
    "In other words, ***knowing A happened tells us nothing about whether B happened (or will happen), and vice versa***."
   ]
  },
  {
   "cell_type": "markdown",
   "metadata": {
    "slideshow": {
     "slide_type": "slide"
    }
   },
   "source": [
    "Let's look at another example.\n",
    "\n",
    "If you have a bag with 5 marbles, 3 yellow and 2 blue and you want to know the probability of picking 2 yellow marbles in a row, that would be\n",
    "\n",
    "$$p(Y_1,Y_2) = p(Y_1)p(Y_2|Y_1).$$\n",
    "\n",
    "$p(Y_1) = \\frac{3}{5}$ since you have an equally likely chance of drawing any of the 5 marbles.\n",
    "\n",
    "If you did not put the first marble back in the back after drawing it (sampling *without* \"replacement\"), then the probability\n",
    "$p(Y_2|Y_1) = \\frac{2}{4}$, so that\n",
    "$$p(Y_1,Y_2) = \\frac{3}{5}\\frac{2}{4} = \\frac{3}{10}.$$\n",
    "\n",
    "But if you put the first marble back, then\n",
    "$p(Y_2|Y_1) = \\frac{3}{5} = p(Y_2)$, so that \n",
    "$$p(Y_1,Y_2) = \\frac{3}{5}\\frac{3}{5} = \\frac{9}{25}.$$\n",
    "\n",
    "In the first case $A$ and $B$ (or rather $Y_1$ and $Y_2$) are *not* independent, whereas in the second case they are."
   ]
  },
  {
   "cell_type": "markdown",
   "metadata": {
    "slideshow": {
     "slide_type": "subslide"
    }
   },
   "source": [
    "Here is a more complicated example from \n",
    "[Jo Bovy's class at UToronto](http://astro.utoronto.ca/%7Ebovy/teaching.html)\n",
    "![Bovy_L1-StatMiniCourse_page21](figures/Bovy_L1-StatMiniCourse_page21.png)\n",
    "\n",
    "As illustrated, \n",
    "$$p(A \\,{\\rm or}\\, B|C) = p(A|C) + p(B|C) - p(A \\, {\\rm and}\\, B|C)$$ \n",
    "\n",
    "This illustration also explains why $$p(x|y)p(y) = p(y|x)p(x)$$ (used below),\n",
    "or in the notation of this figure: $$p(A \\, {\\rm and}\\, B) \\equiv p(A,B) = p(A|B)p(B) = p(B|A)p(A)$$\n",
    "\n"
   ]
  },
  {
   "cell_type": "markdown",
   "metadata": {
    "slideshow": {
     "slide_type": "slide"
    }
   },
   "source": [
    "Need more help with this?  Try watching some Khan Academy videos and working through the exercises:\n",
    "[https://www.khanacademy.org/math/probability/probability-geometry](https://www.khanacademy.org/math/probability/probability-geometry)\n",
    "\n",
    "[https://www.khanacademy.org/math/precalculus/prob-comb](https://www.khanacademy.org/math/precalculus/prob-comb)"
   ]
  },
  {
   "cell_type": "markdown",
   "metadata": {
    "slideshow": {
     "slide_type": "slide"
    }
   },
   "source": [
    "## Bayes' Rule"
   ]
  },
  {
   "cell_type": "markdown",
   "metadata": {
    "slideshow": {
     "slide_type": "slide"
    }
   },
   "source": [
    "We've seen that the probability of $x$ and $y$ occurring can be written as:\n",
    "\n",
    "$$p(x,y) = p(x|y)p(y) = p(y|x)p(x)$$\n",
    "\n",
    ". We can define the ***marginal probability*** as\n",
    "\n",
    "$$p(x) = \\int p(x,y)dy,$$\n",
    "\n",
    "where marginal means the probability of $x$ occurring irrespective what $y$ is. This is essentially projecting on to one axis (integrating over the other axis, see the figure in the Notebook, below).\n",
    "\n",
    "Given these two, we can write:\n",
    "\n",
    "$$p(x) = \\int p(x|y)p(y) dy$$\n",
    "\n",
    "This is just the law of total probability, but for continous variables."
   ]
  },
  {
   "cell_type": "markdown",
   "metadata": {
    "slideshow": {
     "slide_type": "subslide"
    }
   },
   "source": [
    "## Marginal and contitional probability distributions\n",
    "\n",
    "In the following figure, we have a 2-D distribution in $x-y$ parameter space.  Here $x$ and $y$ are *not* independent as, once you pick a $y$, your values of $x$ are constrained.\n",
    "\n",
    "The *marginal* distributions are shown on the left and bottom sides of the left panel.  As the equation above says, this is just the integral along the $x$ direction for a given $y$ (left side panel) or the integral along the $y$ direction for a given $x$ (bottom panel).  \n",
    "\n",
    "The three panels on the right show the *conditional* probability (of $x$) for three $y$ values: $$p(x|y=y_0)$$  These are just \"slices\" through the 2-D distribution.\n",
    "\n",
    "![http://www.astroml.org/_images/fig_conditional_probability_1.png](http://www.astroml.org/_images/fig_conditional_probability_1.png)"
   ]
  },
  {
   "cell_type": "markdown",
   "metadata": {
    "slideshow": {
     "slide_type": "slide"
    }
   },
   "source": [
    "Then, again starting with:\n",
    "\n",
    "$$p(x|y)p(y) = p(y|x)p(x)$$\n",
    "\n",
    "we can write:\n",
    "\n",
    "$$p(y|x) = \\frac{p(x|y)p(y)}{p(x)} = \\frac{p(x|y)p(y)}{\\int p(x|y)p(y) dy}$$\n",
    "\n",
    "which in words says that\n",
    "\n",
    "> the (conditional) probability of $y$ given $x$ is just the (conditional) probability of $x$ given $y$ times the (marginal) probability of $y$ divided by the (marginal) probability of $x$, where the latter is just the integral of the numerator.\n",
    "\n",
    "This is **Bayes' rule**, which itself is not at all controversial, though its application can be as we'll discuss later (Week 4)."
   ]
  },
  {
   "cell_type": "markdown",
   "metadata": {
    "slideshow": {
     "slide_type": "slide"
    }
   },
   "source": [
    "## Example: Lego's \n",
    "\n",
    "An example with Lego's (it's awesome):\n",
    "[https://www.countbayesie.com/blog/2015/2/18/bayes-theorem-with-lego](https://www.countbayesie.com/blog/2015/2/18/bayes-theorem-with-lego)"
   ]
  },
  {
   "cell_type": "markdown",
   "metadata": {
    "slideshow": {
     "slide_type": "slide"
    }
   },
   "source": [
    "## Example: Monty Hall Problem\n",
    "\n",
    "You are playing a game show and are shown 2 doors.  One has a car behind it, the other a goat.  What are your chances of picking the door with the car?\n"
   ]
  },
  {
   "cell_type": "markdown",
   "metadata": {
    "slideshow": {
     "slide_type": "slide"
    }
   },
   "source": [
    "OK, now there are 3 doors: one with a car, two with goats.  The game show host asks you to pick a door, but not to open it yet.  Then the host opens one of the other two doors (that you did not pick), making sure to select one with a goat.  The host offers you the opportunity to switch doors.  Do you?\n",
    " \n",
    " \n",
    "![https://upload.wikimedia.org/wikipedia/commons/thumb/3/3f/Monty_open_door.svg/180px-Monty_open_door.svg.png](https://upload.wikimedia.org/wikipedia/commons/thumb/3/3f/Monty_open_door.svg/180px-Monty_open_door.svg.png)\n",
    "\n",
    "\n",
    "\n"
   ]
  },
  {
   "cell_type": "markdown",
   "metadata": {
    "slideshow": {
     "slide_type": "slide"
    }
   },
   "source": [
    "Now you are back at the 2 door situation.  But what can you make of your prior information?"
   ]
  },
  {
   "cell_type": "markdown",
   "metadata": {
    "slideshow": {
     "slide_type": "slide"
    }
   },
   "source": [
    "$p(1{\\rm st \\; choice}) = 1/3$"
   ]
  },
  {
   "cell_type": "markdown",
   "metadata": {
    "slideshow": {
     "slide_type": "slide"
    }
   },
   "source": [
    "Try it:\n",
    "https://betterexplained.com/articles/understanding-the-monty-hall-problem/\n",
    "\n",
    "$p({\\rm other}) = 2/3$\n",
    "which doesn't change after host opens door without the prize.\n",
    "So, switching doubles your chances.  But only because you had prior information.  If someone walked in after the \"bad\" door was opened, then their probability of winning is the expected $1/2$.\n",
    "\n"
   ]
  },
  {
   "cell_type": "markdown",
   "metadata": {
    "slideshow": {
     "slide_type": "skip"
    }
   },
   "source": [
    "\n",
    "![TextbookGrab1](figures/grab1.jpg)\n",
    "\n",
    "\n"
   ]
  },
  {
   "cell_type": "markdown",
   "metadata": {
    "slideshow": {
     "slide_type": "slide"
    }
   },
   "source": [
    "For $N$ choices, revealing $N-2$ \"answers\" doesn't change the probability of your choice.  It is still $\\frac{1}{N}$.  But it *does* change the probability of your knowledge of the *other* remaining choice by $N-1$ and it is $\\frac{N-1}{N}$. Therefore, by switching, you increase your chance of winning by a factor of (N-1). \n",
    "\n",
    "In the 3-door example, you double your chance of winning (from 1/3 to 2/3). \n",
    "\n",
    "This is an example of the use of *conditional* probability, where we have $p(A|B) \\ne p(A)$."
   ]
  },
  {
   "cell_type": "markdown",
   "metadata": {
    "slideshow": {
     "slide_type": "slide"
    }
   },
   "source": [
    "## Example: Contingency Table\n",
    "\n",
    "We can also use Bayes' rule to learn something about false positives and false negatives.\n",
    "\n",
    "Let's say that we have a test for a disease.  The test can be positive ($T=1$) or negative ($T=0$) and one can either have the disease ($D=1$) or not ($D=0$).  So, there are 4 possible combinations:\n",
    "$$T=0; D=0 \\;\\;\\;  {\\rm true \\; negative}$$\n",
    "$$T=0; D=1 \\;\\;\\; {\\rm false \\; negative}$$\n",
    "$$T=1; D=0 \\;\\;\\; {\\rm false \\; positive}$$\n",
    "$$T=1; D=1 \\;\\;\\; {\\rm true \\; positive}$$"
   ]
  },
  {
   "cell_type": "markdown",
   "metadata": {
    "slideshow": {
     "slide_type": "slide"
    }
   },
   "source": [
    "All else being equal, you have a 50% chance of being misdiagnosed.  Not good!  But the probability of disease and the accuracy of the test presumably are not random.\n",
    "\n",
    "If the rates of false positive and false negative are:\n",
    "$$p(T=1|D=0) = \\epsilon_{\\rm FP}$$\n",
    "$$p(T=0|D=1) = \\epsilon_{\\rm FN}$$\n",
    "\n",
    "then the true positive and true negative rates are just:\n",
    "$$p(T=0| D=0) = 1-\\epsilon_{\\rm FP}$$\n",
    "$$p(T=1| D=1) = 1-\\epsilon_{\\rm FN}$$\n",
    "\n",
    "Let's assume that $\\epsilon_{\\rm FP}=0.02$ and $\\epsilon_{\\rm FN}=0.001$. "
   ]
  },
  {
   "cell_type": "markdown",
   "metadata": {
    "slideshow": {
     "slide_type": "slide"
    }
   },
   "source": [
    "In graphical form this 2x2 p(T=0 or 1|D=0 or 1) matrix is:\n",
    "![http://www.astroml.org/_images/fig_contingency_table_1.png](http://www.astroml.org/_images/fig_contingency_table_1.png)"
   ]
  },
  {
   "cell_type": "markdown",
   "metadata": {
    "slideshow": {
     "slide_type": "slide"
    }
   },
   "source": [
    "If we have a **prior** regarding how likely the disease is, we can take this into account.\n",
    "\n",
    "$$p(D=1)=\\epsilon_D$$\n",
    "\n",
    "and then $p(D=0)=1-\\epsilon_D$. Say, $\\epsilon_D = 0.01$. \n",
    "\n",
    "Now assume that a person tested positive. What is the probability that this person has the disease? Is it 98% \n",
    "because $\\epsilon_{\\rm FP}=0.02$?"
   ]
  },
  {
   "cell_type": "markdown",
   "metadata": {
    "slideshow": {
     "slide_type": "notes"
    }
   },
   "source": [
    "We can't just read $p(D=1|T=1)$ off the table because the table entry is the conditional probability of the *test* given the *data*, $p(T=1|D=1)$. What we want is the conditional probability of the *data* given the *test*, that is, $p(D=1|T=1)$."
   ]
  },
  {
   "cell_type": "markdown",
   "metadata": {
    "slideshow": {
     "slide_type": "slide"
    }
   },
   "source": [
    "Bayes' rule then can be used to help us determine how likely it is that you have the disease if you tested positive:\n",
    "\n",
    "$$p(D=1|T=1) = \\frac{p(T=1|D=1)p(D=1)}{p(T=1)},$$\n",
    "\n",
    "where $$p(T=1) = p(T=1|D=0)p(D=0) + p(T=1|D=1)p(D=1).$$"
   ]
  },
  {
   "cell_type": "markdown",
   "metadata": {
    "slideshow": {
     "slide_type": "slide"
    }
   },
   "source": [
    "Therefore:\n",
    "\n",
    "$$p(D=1|T=1) = \\frac{(1 - \\epsilon_{FN})\\epsilon_D}{\\epsilon_{FP}(1-\\epsilon_D) + (1-\\epsilon_{FN})\\epsilon_D} \\approx \\frac{\\epsilon_D}{\\epsilon_{FP}+\\epsilon_D}$$\n",
    "\n",
    "That means that to get a reliable diagnosis, we need $\\epsilon_{FP}$ to be quite small.  (Because you *want* the probability to be close to unity if you test positive, otherwise it is a *false* positive)."
   ]
  },
  {
   "cell_type": "markdown",
   "metadata": {
    "slideshow": {
     "slide_type": "slide"
    }
   },
   "source": [
    "In our example, we have a disease rate of 1% ($\\epsilon_D = 0.01$) and a false positive rate of 2% ($\\epsilon_{\\rm FP}=0.02$).  \n",
    "\n",
    "So we have:\n",
    "$$p(D=1|T=1) = \\frac{0.01}{0.02+0.01} = 0.333$$\n",
    "\n",
    "Then in a sample of, e.g.,  1000 people, 10 people test positive and *actually* have the disease $(1000*0.01)$, but another 20 $(1000*0.02)$ will test positive while healthy!\n",
    "\n",
    "Therefore, in that sample of 30 people who tested positive, only 1/3 has the disease (not 98%!). \n",
    "\n",
    "Same math, with often surprising results, applies to DNA tests of murder suspects... (more about this later in the course)."
   ]
  },
  {
   "cell_type": "markdown",
   "metadata": {
    "slideshow": {
     "slide_type": "slide"
    }
   },
   "source": [
    "## Descriptive statistics\n",
    "\n",
    "Typically, we collect some *samples* (series of measurements, or catalogs of stars) that can be thought of as being drawn from som underlying distribution (e.g., distribution of errors, or the distribution of stars in the Milky Way).\n",
    "\n",
    "We often don't care much about the individual samples, other than to use them ***to learn more about the underlying distributions and their properties (e.g., the mean (location), width (scale), etc.)***. How do we do that?"
   ]
  },
  {
   "cell_type": "markdown",
   "metadata": {
    "slideshow": {
     "slide_type": "slide"
    }
   },
   "source": [
    "![SlideGrab](figures/p5.jpg)"
   ]
  },
  {
   "cell_type": "markdown",
   "metadata": {
    "slideshow": {
     "slide_type": "slide"
    }
   },
   "source": [
    "Normal probability density function (pdf): $$p(x|\\mu,\\sigma) = \\frac{1}{\\sigma\\sqrt{2\\pi}} \\exp\\left(\\frac{-(x-\\mu)^2}{2\\sigma^2}\\right).$$\n",
    "\n",
    "Cumulative distribution function (cdf): $$\\Phi(x|\\mu,\\sigma) = \\int_{-\\infty}^{x}  p(x'|\\mu,\\sigma) dx' $$\n",
    "$$\\Phi(\\infty|\\mu,\\sigma) = 1.$$"
   ]
  },
  {
   "cell_type": "code",
   "execution_count": 1,
   "metadata": {
    "collapsed": true
   },
   "outputs": [],
   "source": [
    "import numpy as np\n",
    "from matplotlib import pyplot as plt\n",
    "from scipy.stats import norm"
   ]
  },
  {
   "cell_type": "code",
   "execution_count": 2,
   "metadata": {},
   "outputs": [
    {
     "data": {
      "image/png": "iVBORw0KGgoAAAANSUhEUgAAAWQAAAEJCAYAAACjcV2kAAAABHNCSVQICAgIfAhkiAAAAAlwSFlz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\n",
      "text/plain": [
       "<matplotlib.figure.Figure at 0x190e2d8d30>"
      ]
     },
     "metadata": {},
     "output_type": "display_data"
    }
   ],
   "source": [
    "## Let's play with Gaussians! Or Normal distributions, N(mu,sigma)\n",
    "## see http://www.astroml.org/book_figures/chapter3/fig_gaussian_distribution.html\n",
    "## Example: IQ is (by definition) distributed as N(mu=100,sigma=15)\n",
    "## Let's plot the IQ distribution first\n",
    "# generate distribution for a grid of x values\n",
    "x = np.linspace(0, 200, 1000)\n",
    "mu=100\n",
    "sigma=15\n",
    "gauss = norm(mu, sigma).pdf(x)  # this is a function of x: gauss(x)\n",
    "# actual plotting\n",
    "fig, ax = plt.subplots(figsize=(5, 3.75))\n",
    "plt.plot(x, gauss, ls='-', c='black', label=r'$\\mu=%i,\\ \\sigma=%i$' % (mu, sigma))\n",
    "plt.xlim(0, 200)\n",
    "plt.ylim(0, 0.03)\n",
    "plt.xlabel('$x$')\n",
    "plt.ylabel(r'$p(x|\\mu,\\sigma)$')\n",
    "plt.title('Gaussian Distribution')\n",
    "plt.legend()\n",
    "plt.show()"
   ]
  },
  {
   "cell_type": "code",
   "execution_count": 3,
   "metadata": {},
   "outputs": [
    {
     "name": "stdout",
     "output_type": "stream",
     "text": [
      "0.0013498980316301035\n"
     ]
    }
   ],
   "source": [
    "## above we used probability density function (astronomers like to call it \"differential\" df)\n",
    "## the cumulative distribution function, cdf, is the integral of pdf from $x'=-\\infty$ to $x'=x$\n",
    "# What fraction of people have IQ>145?\n",
    "gaussCDF = norm(mu, sigma).cdf(145)\n",
    "print (1-gaussCDF)"
   ]
  },
  {
   "cell_type": "code",
   "execution_count": 5,
   "metadata": {},
   "outputs": [
    {
     "name": "stdout",
     "output_type": "stream",
     "text": [
      "nSigma= 4.753424308817087\n",
      "IQ= 171.3013646322563\n"
     ]
    }
   ],
   "source": [
    "# What IQ corresponds to \"one in a million\"? \n",
    "nSigma = norm.ppf(1-1.0e-6)\n",
    "# norm.ppf returns x for specified cdf, assuming mu=0 and sigma=1 (\"standard normal pdf\")\n",
    "IQ = mu + nSigma*sigma\n",
    "print('nSigma=',nSigma)\n",
    "print('IQ=', IQ)"
   ]
  },
  {
   "cell_type": "code",
   "execution_count": 6,
   "metadata": {},
   "outputs": [
    {
     "name": "stdout",
     "output_type": "stream",
     "text": [
      "0.001319\n"
     ]
    }
   ],
   "source": [
    "# let's now look at the same problems using a sample of million points drawn from N(100,15)\n",
    "sampleSize=1000000 \n",
    "gaussSample = norm(mu, sigma).rvs(sampleSize) \n",
    "# What fraction of people have IQ>145?\n",
    "smartOnes = gaussSample[gaussSample>145]\n",
    "print (1.0*np.size(smartOnes)/sampleSize)"
   ]
  },
  {
   "cell_type": "code",
   "execution_count": 7,
   "metadata": {},
   "outputs": [
    {
     "name": "stdout",
     "output_type": "stream",
     "text": [
      "167.65253378932658\n"
     ]
    }
   ],
   "source": [
    "# What IQ corresponds to \"one in a million\"?  \n",
    "print(np.max(gaussSample))"
   ]
  },
  {
   "cell_type": "code",
   "execution_count": 9,
   "metadata": {
    "collapsed": true
   },
   "outputs": [],
   "source": [
    "def printStats(v):\n",
    "    print('Size:', np.size(v))\n",
    "    print('min:', np.min(v))\n",
    "    print('max:', np.max(v))\n",
    "    print('mean:', np.mean(v))\n",
    "    print('median:', np.median(v))\n",
    "    print('st.dev.:', np.std(v))"
   ]
  },
  {
   "cell_type": "code",
   "execution_count": 10,
   "metadata": {},
   "outputs": [
    {
     "name": "stdout",
     "output_type": "stream",
     "text": [
      "Size: 1000000\n",
      "min: 19.623647650675323\n",
      "max: 167.65253378932658\n",
      "mean: 100.0263670294771\n",
      "median: 100.02704013445992\n",
      "st.dev.: 15.0081978990903\n"
     ]
    }
   ],
   "source": [
    "printStats(gaussSample)"
   ]
  },
  {
   "cell_type": "code",
   "execution_count": 11,
   "metadata": {},
   "outputs": [
    {
     "name": "stdout",
     "output_type": "stream",
     "text": [
      "Size: 1319\n",
      "min: 145.00302160907188\n",
      "max: 167.65253378932658\n",
      "mean: 149.25828097130747\n",
      "median: 148.07188473045463\n",
      "st.dev.: 3.8351581324120096\n"
     ]
    }
   ],
   "source": [
    "printStats(smartOnes)"
   ]
  },
  {
   "cell_type": "code",
   "execution_count": 16,
   "metadata": {},
   "outputs": [
    {
     "name": "stdout",
     "output_type": "stream",
     "text": [
      "N(50 < IQ < 71):     26057\n",
      "N(26 < IQ < 51):     520\n"
     ]
    }
   ],
   "source": [
    "# What about the other end of the spectrum?\n",
    "print('N(50 < IQ < 71):    ', np.size(gaussSample[(gaussSample>50) & (gaussSample<71)]))\n",
    "print('N(26 < IQ < 51):    ', np.size(gaussSample[(gaussSample>26) & (gaussSample<51)]))"
   ]
  },
  {
   "cell_type": "markdown",
   "metadata": {
    "slideshow": {
     "slide_type": "slide"
    }
   },
   "source": [
    "### Gaussian confidence levels\n",
    "\n",
    "The probability of a measurement drawn from a Gaussian distribution that is between $\\mu-a$ and $\\mu+b$ is\n",
    "$$\\int_{\\mu-a}^{\\mu+b} p(x|\\mu,\\sigma) dx.$$\n",
    "For $a=b=1\\sigma$, we get the familar result of 68.3%.  For $a=b=2\\sigma$ it is 95.4%.  So we refer to the range $\\mu \\pm 1\\sigma$ and $\\mu \\pm 2\\sigma$ as the 68% and 95% **confidence limits**, respectively."
   ]
  },
  {
   "cell_type": "code",
   "execution_count": 13,
   "metadata": {
    "collapsed": true,
    "slideshow": {
     "slide_type": "slide"
    }
   },
   "outputs": [],
   "source": [
    "## now let's go back to the problem of estimating location and scale\n",
    "## given a sample, such as gaussSample above, how do we estimate its mu and sigma?"
   ]
  },
  {
   "cell_type": "markdown",
   "metadata": {
    "slideshow": {
     "slide_type": "slide"
    }
   },
   "source": [
    "![SlideGrab](figures/p4.jpg)"
   ]
  },
  {
   "cell_type": "markdown",
   "metadata": {
    "slideshow": {
     "slide_type": "slide"
    }
   },
   "source": [
    "![SlideGrab](figures/p3.jpg)"
   ]
  },
  {
   "cell_type": "markdown",
   "metadata": {
    "slideshow": {
     "slide_type": "slide"
    }
   },
   "source": [
    "### Sample vs. Population Statistics \n",
    "\n",
    "Statistics estimated from the *data* are called _sample statistics_ as compared to _population statistics_ which come from knowing the functional form of the pdf. For example, the expectation value for a known h(x) is\n",
    "\n",
    "$$\\mu \\equiv E(x) = \\int_{-\\infty}^{\\infty} x h(x) dx,$$\n",
    "\n",
    "where $h(x)$ must be properly normalized (the integral gets replaced by a sum for discrete distributions).\n",
    "\n",
    "E(x) is the expecation value of $x$.  If you want the expectation value of something else--say $x^2$ or $(x-\\mu)^2$, you replace $x$ with that. Importantly, the *variance* is the expectation value of $(x-\\mu)^2$\n",
    "\n",
    "$$\\sigma^2 \\equiv V = \\int_{-\\infty}^{\\infty}  (x-\\mu)^2 h(x) dx,$$\n",
    "\n",
    "where, again, the integral gets replaced by a sum for discrete distributions."
   ]
  },
  {
   "cell_type": "markdown",
   "metadata": {
    "slideshow": {
     "slide_type": "slide"
    }
   },
   "source": [
    "Specifically, $\\mu$ is the *population average*, i.e., it is the expecation value of $x$ for $h(x)$.  But we don't *know* $h(x)$! So we do the next best thing, and estimate it from the data:\n",
    "\n",
    "$$ \\hat{h}(x) = \\sum_{i=1}^N \\frac{\\delta_(x - x_i)}{N}$$\n",
    "\n",
    "Plugging into the previous equations, we derive the **sample mean**, $\\overline{x}$ as an *estimator* of $\\mu$ and defined as\n",
    "$$\\overline{x} \\equiv \\frac{1}{N}\\sum_{i=1}^N x_i,$$\n",
    "which we determine from the data itself. We'll hear more about estimators in Week 4."
   ]
  },
  {
   "cell_type": "markdown",
   "metadata": {
    "slideshow": {
     "slide_type": "slide"
    }
   },
   "source": [
    "Similarly, the **sample variance** ($s^2$, where \n",
    "$s$ is the sample standard deviation) is an *estimator* of $\\sigma^2$:\n",
    "$$s^2 \\equiv \\frac{1}{N-1}\\sum_{i=1}^N (x_i-\\overline{x})^2.$$\n",
    "\n",
    "**WAIT!!!** Why do we have (N-1) and not N (as in expression for the mean)???\n",
    "\n",
    "The reason for the (N-1) term instead of the naively expected N in the second expression is related to the fact that $\\overline{x}$ is also determined from data (we will discuss this subtle fact and the underlying statistical justification for the (N-1) term in more detail in Week 4 lectures. With N replaced by (N-1) (the so-called Bessel’s correction), the sample variance (i.e., $\\sigma^2$) becomes unbiased (and the sample standard deviation becomes a less biased, but on average still underestimated, estimator of the true standard deviation). \n",
    "\n",
    "What does \"biased\" mean? "
   ]
  },
  {
   "cell_type": "markdown",
   "metadata": {
    "slideshow": {
     "slide_type": "slide"
    }
   },
   "source": [
    "![SlideGrab](figures/p13.jpg)"
   ]
  },
  {
   "cell_type": "markdown",
   "metadata": {
    "slideshow": {
     "slide_type": "slide"
    }
   },
   "source": [
    "![SlideGrab](figures/p10.jpg)"
   ]
  },
  {
   "cell_type": "markdown",
   "metadata": {
    "slideshow": {
     "slide_type": "slide"
    }
   },
   "source": [
    "![SlideGrab](figures/p11.jpg)"
   ]
  },
  {
   "cell_type": "markdown",
   "metadata": {
    "slideshow": {
     "slide_type": "slide"
    }
   },
   "source": [
    "![SlideGrab](figures/p12.jpg)"
   ]
  },
  {
   "cell_type": "markdown",
   "metadata": {
    "slideshow": {
     "slide_type": "slide"
    }
   },
   "source": [
    "![SlideGrab](figures/p8.jpg)"
   ]
  },
  {
   "cell_type": "markdown",
   "metadata": {
    "slideshow": {
     "slide_type": "slide"
    }
   },
   "source": [
    "Anscombe's quartet comprises four datasets that have nearly identical simple descriptive statistics, yet appear very different when graphed. \n",
    "\n",
    "![SlideGrab](figures/AnscombeQuartet.jpg)\n",
    "\n",
    "![SlideGrab](figures/AnscombeQuartetTable.jpg)\n",
    "\n"
   ]
  }
 ],
 "metadata": {
  "anaconda-cloud": {},
  "celltoolbar": "Slideshow",
  "kernelspec": {
<<<<<<< HEAD
   "display_name": "Python [default]",
=======
   "display_name": "Python 2",
>>>>>>> upstream/master
   "language": "python",
   "name": "python2"
  },
  "language_info": {
   "codemirror_mode": {
    "name": "ipython",
    "version": 2
   },
   "file_extension": ".py",
   "mimetype": "text/x-python",
   "name": "python",
   "nbconvert_exporter": "python",
<<<<<<< HEAD
   "pygments_lexer": "ipython3",
   "version": "3.5.4"
=======
   "pygments_lexer": "ipython2",
   "version": "2.7.13"
>>>>>>> upstream/master
  },
  "livereveal": {
   "scroll": true,
   "start_slideshow_at": "selected",
   "theme": "sky"
  }
 },
 "nbformat": 4,
 "nbformat_minor": 1
}
